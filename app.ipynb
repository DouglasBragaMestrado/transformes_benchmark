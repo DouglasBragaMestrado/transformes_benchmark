{
 "cells": [
  {
   "cell_type": "code",
   "execution_count": 49,
   "id": "bb32fce5",
   "metadata": {},
   "outputs": [],
   "source": [
    "import os\n",
    "import sys\n",
    "import numpy as np\n",
    "import pandas as pd\n",
    "import matplotlib.pyplot as plt\n",
    "import seaborn as sns\n",
    "from datetime import datetime\n",
    "import torch\n",
    "import torch.nn as nn\n",
    "import torch.optim as optim\n",
    "from torch.utils.data import DataLoader\n",
    "import torchvision\n",
    "from torchvision import transforms, datasets\n",
    "from torchvision.transforms import v2\n",
    "import transformers\n",
    "from transformers import AutoImageProcessor, AutoModelForImageClassification\n",
    "from sklearn.metrics import accuracy_score, precision_score, recall_score, f1_score, confusion_matrix, roc_curve, auc\n",
    "from tqdm import tqdm\n",
    "import time\n",
    "import json\n",
    "import warnings\n",
    "warnings.filterwarnings('ignore')"
   ]
  },
  {
   "cell_type": "code",
   "execution_count": 50,
   "id": "0e8ffa14",
   "metadata": {},
   "outputs": [
    {
     "name": "stdout",
     "output_type": "stream",
     "text": [
      "Usando dispositivo: cuda\n"
     ]
    }
   ],
   "source": [
    "# Definição de constantes\n",
    "IMAGE_SIZE = 224\n",
    "BATCH_SIZE = 16\n",
    "EPOCHS = 50\n",
    "LEARNING_RATE = 1e-4\n",
    "WEIGHT_DECAY = 1e-5\n",
    "NUM_CLASSES = 2  # ALL e HEM\n",
    "EARLY_STOPPING_PATIENCE = 10  # Número de épocas para aguardar melhoria\n",
    "DEVICE = torch.device(\"cuda\" if torch.cuda.is_available() else \"cpu\")\n",
    "print(f\"Usando dispositivo: {DEVICE}\")\n",
    "\n",
    "# Diretórios\n",
    "train_dir = 'dataset/processado/train/'\n",
    "val_dir = 'dataset/processado/validation/'\n",
    "test_dir = 'dataset/processado/test/'\n",
    "save_dir = 'models/benchmark_facebook'\n",
    "results_dir = 'results/benchmark_facebook'\n",
    "os.makedirs(save_dir, exist_ok=True)\n",
    "os.makedirs(results_dir, exist_ok=True)\n",
    "os.makedirs(os.path.join(results_dir, 'plots'), exist_ok=True)"
   ]
  },
  {
   "cell_type": "code",
   "execution_count": 51,
   "id": "432b9f12",
   "metadata": {},
   "outputs": [],
   "source": [
    "# Modelos a serem avaliados\n",
    "models_config = {\n",
    "    'convnext-base': 'facebook/convnext-base-224',\n",
    "    'ViT-Base' :'google/vit-base-patch16-224',\n",
    "    'Swin-Base' : 'microsoft/swin-base-patch4-window7-224'\n",
    "}"
   ]
  },
  {
   "cell_type": "code",
   "execution_count": 52,
   "id": "1184b95a",
   "metadata": {},
   "outputs": [],
   "source": [
    "# Classe para implementar Early Stopping\n",
    "class EarlyStopping:\n",
    "    \"\"\"Early Stopping para interromper o treinamento quando a validação parar de melhorar.\"\"\"\n",
    "    def __init__(self, patience=10, min_delta=0, verbose=True):\n",
    "        \"\"\"\n",
    "        Args:\n",
    "            patience (int): Quantas épocas esperar após a última melhoria.\n",
    "            min_delta (float): Mínima mudança para considerar como melhoria.\n",
    "            verbose (bool): Se deve imprimir mensagem quando ocorrer early stopping.\n",
    "        \"\"\"\n",
    "        self.patience = patience\n",
    "        self.min_delta = min_delta\n",
    "        self.verbose = verbose\n",
    "        self.counter = 0\n",
    "        self.best_score = None\n",
    "        self.early_stop = False\n",
    "        self.val_loss_min = float('inf')\n",
    "        \n",
    "    def __call__(self, val_loss, model, model_path):\n",
    "        score = -val_loss\n",
    "        \n",
    "        if self.best_score is None:\n",
    "            self.best_score = score\n",
    "            self.save_checkpoint(val_loss, model, model_path)\n",
    "        elif score < self.best_score + self.min_delta:\n",
    "            self.counter += 1\n",
    "            if self.verbose:\n",
    "                print(f'EarlyStopping: {self.counter}/{self.patience}')\n",
    "            if self.counter >= self.patience:\n",
    "                self.early_stop = True\n",
    "                if self.verbose:\n",
    "                    print('EarlyStopping: Parando treinamento')\n",
    "        else:\n",
    "            self.best_score = score\n",
    "            self.save_checkpoint(val_loss, model, model_path)\n",
    "            self.counter = 0\n",
    "            \n",
    "    def save_checkpoint(self, val_loss, model, model_path):\n",
    "        \"\"\"Salva o modelo quando a validação melhora.\"\"\"\n",
    "        if self.verbose:\n",
    "            print(f'Validação melhorou ({self.val_loss_min:.6f} --> {val_loss:.6f}). Salvando modelo...')\n",
    "        torch.save(model.state_dict(), model_path)\n",
    "        self.val_loss_min = val_loss"
   ]
  },
  {
   "cell_type": "code",
   "execution_count": 53,
   "id": "f22bc3e2",
   "metadata": {},
   "outputs": [],
   "source": [
    "# Definição das transformações de dados\n",
    "def get_transforms(processor):\n",
    "    \"\"\"Obtém as transformações de pré-processamento para cada modelo\"\"\"\n",
    "    # Extrair médias e desvios padrão seguros\n",
    "    if hasattr(processor, 'image_mean') and hasattr(processor, 'image_std'):\n",
    "        mean = processor.image_mean\n",
    "        std = processor.image_std\n",
    "    else:\n",
    "        # Valores padrão do ImageNet caso não estejam disponíveis\n",
    "        mean = [0.485, 0.456, 0.406]\n",
    "        std = [0.229, 0.224, 0.225]\n",
    "        print(f\"AVISO: Usando valores padrão do ImageNet para mean e std.\")\n",
    "    \n",
    "    train_transforms = transforms.Compose([\n",
    "        transforms.Resize((IMAGE_SIZE, IMAGE_SIZE)),\n",
    "        transforms.RandomHorizontalFlip(),\n",
    "        transforms.RandomVerticalFlip(),\n",
    "        transforms.RandomRotation(20),\n",
    "        transforms.RandomAffine(degrees=0, translate=(0.1, 0.1)),\n",
    "        transforms.ColorJitter(brightness=0.2, contrast=0.2, saturation=0.2, hue=0.1),\n",
    "        transforms.ToTensor(),\n",
    "        transforms.Normalize(mean=mean, std=std),\n",
    "    ])\n",
    "    \n",
    "    val_transforms = transforms.Compose([\n",
    "        transforms.Resize((IMAGE_SIZE, IMAGE_SIZE)),\n",
    "        transforms.ToTensor(),\n",
    "        transforms.Normalize(mean=mean, std=std),\n",
    "    ])\n",
    "    \n",
    "    return train_transforms, val_transforms"
   ]
  },
  {
   "cell_type": "code",
   "execution_count": 54,
   "id": "0359756b",
   "metadata": {},
   "outputs": [],
   "source": [
    "# Função para carregar os datasets\n",
    "def load_datasets(train_transforms, val_transforms):\n",
    "    \"\"\"Carrega os datasets de treino, validação e teste\"\"\"\n",
    "    train_dataset = datasets.ImageFolder(\n",
    "        root=train_dir,\n",
    "        transform=train_transforms\n",
    "    )\n",
    "    \n",
    "    val_dataset = datasets.ImageFolder(\n",
    "        root=val_dir,\n",
    "        transform=val_transforms\n",
    "    )\n",
    "    \n",
    "    test_dataset = datasets.ImageFolder(\n",
    "        root=test_dir,\n",
    "        transform=val_transforms\n",
    "    )\n",
    "    \n",
    "    train_loader = DataLoader(\n",
    "        train_dataset, \n",
    "        batch_size=BATCH_SIZE, \n",
    "        shuffle=True, \n",
    "        num_workers=4,\n",
    "        pin_memory=True\n",
    "    )\n",
    "    \n",
    "    val_loader = DataLoader(\n",
    "        val_dataset, \n",
    "        batch_size=BATCH_SIZE, \n",
    "        shuffle=False, \n",
    "        num_workers=4,\n",
    "        pin_memory=True\n",
    "    )\n",
    "    \n",
    "    test_loader = DataLoader(\n",
    "        test_dataset, \n",
    "        batch_size=BATCH_SIZE, \n",
    "        shuffle=False, \n",
    "        num_workers=4,\n",
    "        pin_memory=True\n",
    "    )\n",
    "    \n",
    "    class_names = train_dataset.classes\n",
    "    \n",
    "    dataset_info = {\n",
    "        'train_size': len(train_dataset),\n",
    "        'val_size': len(val_dataset),\n",
    "        'test_size': len(test_dataset),\n",
    "        'class_names': class_names,\n",
    "        'class_distribution': {\n",
    "            'train': {\n",
    "                class_names[0]: sum([1 for _, label in train_dataset if label == 0]),\n",
    "                class_names[1]: sum([1 for _, label in train_dataset if label == 1])\n",
    "            },\n",
    "            'val': {\n",
    "                class_names[0]: sum([1 for _, label in val_dataset if label == 0]),\n",
    "                class_names[1]: sum([1 for _, label in val_dataset if label == 1])\n",
    "            },\n",
    "            'test': {\n",
    "                class_names[0]: sum([1 for _, label in test_dataset if label == 0]),\n",
    "                class_names[1]: sum([1 for _, label in test_dataset if label == 1])\n",
    "            }\n",
    "        }\n",
    "    }\n",
    "    \n",
    "    print(f\"Dataset carregado:\")\n",
    "    print(f\"Treino: {len(train_dataset)} imagens\")\n",
    "    print(f\"Validação: {len(val_dataset)} imagens\")\n",
    "    print(f\"Teste: {len(test_dataset)} imagens\")\n",
    "    print(f\"Classes: {class_names}\")\n",
    "    \n",
    "    return train_loader, val_loader, test_loader, dataset_info\n"
   ]
  },
  {
   "cell_type": "code",
   "execution_count": 55,
   "id": "f92124c2",
   "metadata": {},
   "outputs": [],
   "source": [
    "# Função para treinar o modelo\n",
    "def train_model(model, train_loader, val_loader, optimizer, criterion, scheduler, model_name, epochs=EPOCHS):\n",
    "    \"\"\"Treina o modelo e retorna histórico de métricas\"\"\"\n",
    "    history = {\n",
    "        'train_loss': [],\n",
    "        'train_acc': [],\n",
    "        'val_loss': [],\n",
    "        'val_acc': [],\n",
    "        'val_precision': [],\n",
    "        'val_recall': [],\n",
    "        'val_f1': [],\n",
    "        'time_per_epoch': []\n",
    "    }\n",
    "    \n",
    "    best_val_loss = float('inf')\n",
    "    best_model_path = os.path.join(save_dir, f\"{model_name}_best.pth\")\n",
    "    \n",
    "    # Early Stopping: parâmetros\n",
    "    patience = 10  # Número de épocas para esperar por melhoria\n",
    "    min_delta = 0.0001  # Mínima mudança considerada como melhoria\n",
    "    early_stop_counter = 0\n",
    "    early_stopped = False\n",
    "    best_epoch = 0\n",
    "    \n",
    "    for epoch in range(epochs):\n",
    "        start_time = time.time()\n",
    "        \n",
    "        # Modo de treinamento\n",
    "        model.train()\n",
    "        train_loss = 0.0\n",
    "        train_correct = 0\n",
    "        train_total = 0\n",
    "        \n",
    "        train_loop = tqdm(train_loader, desc=f\"Época {epoch+1}/{epochs} (Treino)\")\n",
    "        for batch_idx, (inputs, targets) in enumerate(train_loop):\n",
    "            inputs, targets = inputs.to(DEVICE), targets.to(DEVICE)\n",
    "            \n",
    "            optimizer.zero_grad()\n",
    "            outputs = model(inputs).logits\n",
    "            loss = criterion(outputs, targets)\n",
    "            loss.backward()\n",
    "            optimizer.step()\n",
    "            \n",
    "            train_loss += loss.item()\n",
    "            _, predicted = outputs.max(1)\n",
    "            train_total += targets.size(0)\n",
    "            train_correct += predicted.eq(targets).sum().item()\n",
    "            \n",
    "            # Atualiza a barra de progresso sem prints excessivos\n",
    "            if batch_idx % 10 == 0:  # Atualizar a cada 10 batches\n",
    "                train_loop.set_postfix(\n",
    "                    loss=train_loss/(batch_idx+1),\n",
    "                    acc=100.*train_correct/train_total\n",
    "                )\n",
    "        \n",
    "        train_loss = train_loss / len(train_loader)\n",
    "        train_acc = 100. * train_correct / train_total\n",
    "        \n",
    "        # Modo de validação\n",
    "        model.eval()\n",
    "        val_loss = 0.0\n",
    "        val_preds = []\n",
    "        val_targets = []\n",
    "        \n",
    "        with torch.no_grad():\n",
    "            val_loop = tqdm(val_loader, desc=f\"Época {epoch+1}/{epochs} (Val)\")\n",
    "            for batch_idx, (inputs, targets) in enumerate(val_loop):\n",
    "                inputs, targets = inputs.to(DEVICE), targets.to(DEVICE)\n",
    "                \n",
    "                outputs = model(inputs).logits\n",
    "                loss = criterion(outputs, targets)\n",
    "                \n",
    "                val_loss += loss.item()\n",
    "                _, predicted = outputs.max(1)\n",
    "                \n",
    "                # Acumular apenas os índices ou classes ao invés dos tensores completos\n",
    "                val_preds.extend(predicted.cpu().numpy())\n",
    "                val_targets.extend(targets.cpu().numpy())\n",
    "                \n",
    "                # Atualiza a barra de progresso com menos frequência\n",
    "                if batch_idx % 10 == 0:  # Atualizar a cada 10 batches\n",
    "                    val_loop.set_postfix(loss=val_loss/(batch_idx+1))\n",
    "        \n",
    "        val_loss = val_loss / len(val_loader)\n",
    "        \n",
    "        # Calcular métricas apenas uma vez, no final da época\n",
    "        val_acc = 100. * accuracy_score(val_targets, val_preds)\n",
    "        val_precision = precision_score(val_targets, val_preds, average='weighted')\n",
    "        val_recall = recall_score(val_targets, val_preds, average='weighted')\n",
    "        val_f1 = f1_score(val_targets, val_preds, average='weighted')\n",
    "        \n",
    "        # Ajuste do learning rate\n",
    "        if scheduler:\n",
    "            scheduler.step(val_loss)\n",
    "            current_lr = optimizer.param_groups[0]['lr']\n",
    "            print(f\"Learning rate atual: {current_lr:.6f}\")\n",
    "        \n",
    "        # Tempo gasto na época\n",
    "        epoch_time = time.time() - start_time\n",
    "        \n",
    "        # Salvar métricas\n",
    "        history['train_loss'].append(train_loss)\n",
    "        history['train_acc'].append(train_acc)\n",
    "        history['val_loss'].append(val_loss)\n",
    "        history['val_acc'].append(val_acc)\n",
    "        history['val_precision'].append(val_precision)\n",
    "        history['val_recall'].append(val_recall)\n",
    "        history['val_f1'].append(val_f1)\n",
    "        history['time_per_epoch'].append(epoch_time)\n",
    "        \n",
    "        # Imprimir resultados\n",
    "        print(f\"Época {epoch+1}/{epochs} - \"\n",
    "              f\"Tempo: {epoch_time:.2f}s - \"\n",
    "              f\"Treino Loss: {train_loss:.4f} - \"\n",
    "              f\"Treino Acc: {train_acc:.2f}% - \"\n",
    "              f\"Val Loss: {val_loss:.4f} - \"\n",
    "              f\"Val Acc: {val_acc:.2f}% - \"\n",
    "              f\"Val F1: {val_f1:.4f}\")\n",
    "        \n",
    "        # Early Stopping: verificar se houve melhoria\n",
    "        if val_loss < best_val_loss - min_delta:\n",
    "            # Houve melhoria significativa\n",
    "            best_val_loss = val_loss\n",
    "            best_epoch = epoch\n",
    "            early_stop_counter = 0\n",
    "            \n",
    "            # Salvar o melhor modelo\n",
    "            torch.save(model.state_dict(), best_model_path)\n",
    "            print(f\"Melhor modelo salvo com Val Loss: {val_loss:.4f}\")\n",
    "        else:\n",
    "            # Não houve melhoria significativa\n",
    "            early_stop_counter += 1\n",
    "            \n",
    "            # Reduzir frequência de logs\n",
    "            if early_stop_counter == 1 or early_stop_counter % 2 == 0 or early_stop_counter == patience:\n",
    "                print(f\"EarlyStopping: {early_stop_counter}/{patience}\")\n",
    "            \n",
    "            # Verificar se devemos parar o treinamento\n",
    "            if early_stop_counter >= patience:\n",
    "                print(f\"Early Stopping ativado na época {epoch+1}. Treinamento interrompido.\")\n",
    "                early_stopped = True\n",
    "                break\n",
    "                \n",
    "        # Liberar memória explicitamente\n",
    "        torch.cuda.empty_cache()\n",
    "    \n",
    "    # Carregar o melhor modelo para avaliação\n",
    "    model.load_state_dict(torch.load(best_model_path))\n",
    "    \n",
    "    # Adicionar informação de early stopping ao histórico\n",
    "    if early_stopped:\n",
    "        print(f\"Treinamento interrompido por Early Stopping após {epoch+1} épocas.\")\n",
    "        print(f\"Usando o melhor modelo da época {best_epoch+1} com val_loss: {best_val_loss:.4f}\")\n",
    "    else:\n",
    "        print(f\"Treinamento concluído sem Early Stopping. Melhor val_loss: {best_val_loss:.4f} (época {best_epoch+1})\")\n",
    "    \n",
    "    return model, history"
   ]
  },
  {
   "cell_type": "code",
   "execution_count": 56,
   "id": "78af56bf",
   "metadata": {},
   "outputs": [],
   "source": [
    "# Função para avaliar o modelo no conjunto de teste\n",
    "def evaluate_model(model, test_loader, class_names):\n",
    "    \"\"\"Avalia o modelo no conjunto de teste e retorna métricas\"\"\"\n",
    "    model.eval()\n",
    "    \n",
    "    # Inicialização de listas para armazenar previsões e alvos\n",
    "    all_preds = []\n",
    "    all_targets = []\n",
    "    all_probs = []\n",
    "    \n",
    "    with torch.no_grad():\n",
    "        for inputs, targets in tqdm(test_loader, desc=\"Avaliando no conjunto de teste\"):\n",
    "            inputs, targets = inputs.to(DEVICE), targets.to(DEVICE)\n",
    "            \n",
    "            outputs = model(inputs).logits\n",
    "            probs = torch.softmax(outputs, dim=1)\n",
    "            _, preds = torch.max(outputs, 1)\n",
    "            \n",
    "            all_preds.extend(preds.cpu().numpy())\n",
    "            all_targets.extend(targets.cpu().numpy())\n",
    "            all_probs.extend(probs.cpu().numpy())\n",
    "    \n",
    "    # Cálculo das métricas\n",
    "    accuracy = accuracy_score(all_targets, all_preds)\n",
    "    precision = precision_score(all_targets, all_preds, average='weighted')\n",
    "    recall = recall_score(all_targets, all_preds, average='weighted')\n",
    "    f1 = f1_score(all_targets, all_preds, average='weighted')\n",
    "    \n",
    "    # Matriz de confusão\n",
    "    cm = confusion_matrix(all_targets, all_preds)\n",
    "    \n",
    "    # Cálculo da curva ROC para classificação binária\n",
    "    fpr, tpr, _ = roc_curve(all_targets, np.array(all_probs)[:, 1])\n",
    "    roc_auc = auc(fpr, tpr)\n",
    "    \n",
    "    # Resultados\n",
    "    results = {\n",
    "        'accuracy': accuracy,\n",
    "        'precision': precision,\n",
    "        'recall': recall,\n",
    "        'f1_score': f1,\n",
    "        'confusion_matrix': cm.tolist(),\n",
    "        'roc_auc': roc_auc,\n",
    "        'fpr': fpr.tolist(),\n",
    "        'tpr': tpr.tolist()\n",
    "    }\n",
    "    \n",
    "    print(f\"Métricas de Teste:\")\n",
    "    print(f\"Acurácia: {accuracy:.4f}\")\n",
    "    print(f\"Precisão: {precision:.4f}\")\n",
    "    print(f\"Recall: {recall:.4f}\")\n",
    "    print(f\"F1-Score: {f1:.4f}\")\n",
    "    print(f\"AUC-ROC: {roc_auc:.4f}\")\n",
    "    print(\"Matriz de Confusão:\")\n",
    "    print(cm)\n",
    "    \n",
    "    return results"
   ]
  },
  {
   "cell_type": "code",
   "execution_count": 57,
   "id": "79d4109a",
   "metadata": {},
   "outputs": [],
   "source": [
    "# Função para plotar a matriz de confusão\n",
    "def plot_confusion_matrix(cm, class_names, model_name):\n",
    "    \"\"\"Plota a matriz de confusão\"\"\"\n",
    "    plt.figure(figsize=(10, 8))\n",
    "    sns.heatmap(cm, annot=True, fmt='d', cmap='Blues', xticklabels=class_names, yticklabels=class_names)\n",
    "    plt.xlabel('Predição')\n",
    "    plt.ylabel('Real')\n",
    "    plt.title(f'Matriz de Confusão - {model_name}')\n",
    "    plt.tight_layout()\n",
    "    plt.savefig(os.path.join(results_dir, 'plots', f'{model_name}_confusion_matrix.png'), dpi=300)\n",
    "    plt.close()"
   ]
  },
  {
   "cell_type": "code",
   "execution_count": 58,
   "id": "09d51a7b",
   "metadata": {},
   "outputs": [],
   "source": [
    "# Função para plotar a curva ROC\n",
    "def plot_roc_curve(fpr, tpr, roc_auc, model_name):\n",
    "    \"\"\"Plota a curva ROC\"\"\"\n",
    "    plt.figure(figsize=(10, 8))\n",
    "    plt.plot(fpr, tpr, color='darkorange', lw=2, label=f'ROC curve (area = {roc_auc:.3f})')\n",
    "    plt.plot([0, 1], [0, 1], color='navy', lw=2, linestyle='--')\n",
    "    plt.xlim([0.0, 1.0])\n",
    "    plt.ylim([0.0, 1.05])\n",
    "    plt.xlabel('Taxa de Falsos Positivos')\n",
    "    plt.ylabel('Taxa de Verdadeiros Positivos')\n",
    "    plt.title(f'Curva ROC - {model_name}')\n",
    "    plt.legend(loc=\"lower right\")\n",
    "    plt.tight_layout()\n",
    "    plt.savefig(os.path.join(results_dir, 'plots', f'{model_name}_roc_curve.png'), dpi=300)\n",
    "    plt.close()"
   ]
  },
  {
   "cell_type": "code",
   "execution_count": 59,
   "id": "183bb125",
   "metadata": {},
   "outputs": [],
   "source": [
    "# Função para plotar o histórico de treinamento\n",
    "def plot_training_history(history, model_name):\n",
    "    \"\"\"Plota o histórico de treinamento\"\"\"\n",
    "    # Plot de acurácia\n",
    "    plt.figure(figsize=(12, 5))\n",
    "    plt.subplot(1, 2, 1)\n",
    "    plt.plot(history['train_acc'], label='Treino')\n",
    "    plt.plot(history['val_acc'], label='Validação')\n",
    "    plt.title(f'Acurácia - {model_name}')\n",
    "    plt.xlabel('Época')\n",
    "    plt.ylabel('Acurácia (%)')\n",
    "    plt.legend()\n",
    "    plt.grid(True)\n",
    "    \n",
    "    # Plot de perda\n",
    "    plt.subplot(1, 2, 2)\n",
    "    plt.plot(history['train_loss'], label='Treino')\n",
    "    plt.plot(history['val_loss'], label='Validação')\n",
    "    plt.title(f'Perda - {model_name}')\n",
    "    plt.xlabel('Época')\n",
    "    plt.ylabel('Perda')\n",
    "    plt.legend()\n",
    "    plt.grid(True)\n",
    "    \n",
    "    plt.tight_layout()\n",
    "    plt.savefig(os.path.join(results_dir, 'plots', f'{model_name}_training_history.png'), dpi=300)\n",
    "    plt.close()\n",
    "    \n",
    "    # Plot de F1, Precisão e Recall\n",
    "    plt.figure(figsize=(10, 6))\n",
    "    plt.plot(history['val_precision'], label='Precisão')\n",
    "    plt.plot(history['val_recall'], label='Recall')\n",
    "    plt.plot(history['val_f1'], label='F1-Score')\n",
    "    plt.title(f'Métricas de Validação - {model_name}')\n",
    "    plt.xlabel('Época')\n",
    "    plt.ylabel('Valor')\n",
    "    plt.legend()\n",
    "    plt.grid(True)\n",
    "    plt.tight_layout()\n",
    "    plt.savefig(os.path.join(results_dir, 'plots', f'{model_name}_validation_metrics.png'), dpi=300)\n",
    "    plt.close()"
   ]
  },
  {
   "cell_type": "code",
   "execution_count": 60,
   "id": "b473ecde",
   "metadata": {},
   "outputs": [
    {
     "name": "stdout",
     "output_type": "stream",
     "text": [
      "Iniciando benchmark em 2025-05-15 22:31:27\n",
      "\n",
      "=== Informações do Sistema ===\n",
      "Python: 3.10.12 (main, Feb  4 2025, 14:57:36) [GCC 11.4.0]\n",
      "PyTorch: 2.7.0+cu126\n",
      "Torchvision: 0.22.0+cu126\n",
      "Transformers: 4.51.3\n",
      "Dispositivo: cuda\n",
      "GPU disponível: True\n",
      "GPU: NVIDIA GeForce RTX 4060\n",
      "=============================\n",
      "\n",
      "\n",
      "==================================================\n",
      "Benchmark do modelo: convnext-base\n",
      "==================================================\n"
     ]
    },
    {
     "name": "stderr",
     "output_type": "stream",
     "text": [
      "Some weights of ConvNextForImageClassification were not initialized from the model checkpoint at facebook/convnext-base-224 and are newly initialized because the shapes did not match:\n",
      "- classifier.weight: found shape torch.Size([1000, 1024]) in the checkpoint and torch.Size([2, 1024]) in the model instantiated\n",
      "- classifier.bias: found shape torch.Size([1000]) in the checkpoint and torch.Size([2]) in the model instantiated\n",
      "You should probably TRAIN this model on a down-stream task to be able to use it for predictions and inference.\n"
     ]
    },
    {
     "name": "stdout",
     "output_type": "stream",
     "text": [
      "Dataset carregado:\n",
      "Treino: 16384 imagens\n",
      "Validação: 2326 imagens\n",
      "Teste: 976 imagens\n",
      "Classes: ['all', 'hem']\n",
      "Configurado scheduler ReduceLROnPlateau com patience=5, factor=0.5\n",
      "Iniciando treinamento do modelo convnext-base...\n"
     ]
    },
    {
     "name": "stderr",
     "output_type": "stream",
     "text": [
      "Época 1/50 (Treino): 100%|██████████| 1024/1024 [06:45<00:00,  2.52it/s, acc=82.2, loss=0.383]\n",
      "Época 1/50 (Val): 100%|██████████| 146/146 [00:18<00:00,  8.09it/s, loss=0.164]\n"
     ]
    },
    {
     "name": "stdout",
     "output_type": "stream",
     "text": [
      "Learning rate atual: 0.000100\n",
      "Época 1/50 - Tempo: 424.03s - Treino Loss: 0.3827 - Treino Acc: 82.23% - Val Loss: 0.1937 - Val Acc: 92.73% - Val F1: 0.9250\n",
      "Melhor modelo salvo com Val Loss: 0.1937\n"
     ]
    },
    {
     "name": "stderr",
     "output_type": "stream",
     "text": [
      "Época 2/50 (Treino): 100%|██████████| 1024/1024 [06:02<00:00,  2.83it/s, acc=89.1, loss=0.26]\n",
      "Época 2/50 (Val): 100%|██████████| 146/146 [00:14<00:00,  9.78it/s, loss=0.229]\n"
     ]
    },
    {
     "name": "stdout",
     "output_type": "stream",
     "text": [
      "Learning rate atual: 0.000100\n",
      "Época 2/50 - Tempo: 377.00s - Treino Loss: 0.2594 - Treino Acc: 89.07% - Val Loss: 0.2364 - Val Acc: 89.90% - Val F1: 0.9026\n",
      "EarlyStopping: 1/10\n"
     ]
    },
    {
     "name": "stderr",
     "output_type": "stream",
     "text": [
      "Época 3/50 (Treino): 100%|██████████| 1024/1024 [05:55<00:00,  2.88it/s, acc=91.1, loss=0.208]\n",
      "Época 3/50 (Val): 100%|██████████| 146/146 [00:14<00:00,  9.83it/s, loss=0.165]\n"
     ]
    },
    {
     "name": "stdout",
     "output_type": "stream",
     "text": [
      "Learning rate atual: 0.000100\n",
      "Época 3/50 - Tempo: 370.24s - Treino Loss: 0.2075 - Treino Acc: 91.16% - Val Loss: 0.1864 - Val Acc: 92.78% - Val F1: 0.9295\n",
      "Melhor modelo salvo com Val Loss: 0.1864\n"
     ]
    },
    {
     "name": "stderr",
     "output_type": "stream",
     "text": [
      "Época 4/50 (Treino): 100%|██████████| 1024/1024 [05:54<00:00,  2.89it/s, acc=93.5, loss=0.159]\n",
      "Época 4/50 (Val): 100%|██████████| 146/146 [00:15<00:00,  9.70it/s, loss=0.203]\n"
     ]
    },
    {
     "name": "stdout",
     "output_type": "stream",
     "text": [
      "Learning rate atual: 0.000100\n",
      "Época 4/50 - Tempo: 369.96s - Treino Loss: 0.1590 - Treino Acc: 93.49% - Val Loss: 0.2155 - Val Acc: 92.48% - Val F1: 0.9271\n",
      "EarlyStopping: 1/10\n"
     ]
    },
    {
     "name": "stderr",
     "output_type": "stream",
     "text": [
      "Época 5/50 (Treino): 100%|██████████| 1024/1024 [05:55<00:00,  2.88it/s, acc=94.5, loss=0.139]\n",
      "Época 5/50 (Val): 100%|██████████| 146/146 [00:14<00:00,  9.81it/s, loss=0.139] \n"
     ]
    },
    {
     "name": "stdout",
     "output_type": "stream",
     "text": [
      "Learning rate atual: 0.000100\n",
      "Época 5/50 - Tempo: 370.83s - Treino Loss: 0.1386 - Treino Acc: 94.52% - Val Loss: 0.1431 - Val Acc: 94.45% - Val F1: 0.9446\n",
      "Melhor modelo salvo com Val Loss: 0.1431\n"
     ]
    },
    {
     "name": "stderr",
     "output_type": "stream",
     "text": [
      "Época 6/50 (Treino): 100%|██████████| 1024/1024 [05:55<00:00,  2.88it/s, acc=95.6, loss=0.115]\n",
      "Época 6/50 (Val): 100%|██████████| 146/146 [00:14<00:00,  9.81it/s, loss=0.0968]\n"
     ]
    },
    {
     "name": "stdout",
     "output_type": "stream",
     "text": [
      "Learning rate atual: 0.000100\n",
      "Época 6/50 - Tempo: 370.58s - Treino Loss: 0.1148 - Treino Acc: 95.56% - Val Loss: 0.1041 - Val Acc: 95.83% - Val F1: 0.9587\n",
      "Melhor modelo salvo com Val Loss: 0.1041\n"
     ]
    },
    {
     "name": "stderr",
     "output_type": "stream",
     "text": [
      "Época 7/50 (Treino): 100%|██████████| 1024/1024 [05:55<00:00,  2.88it/s, acc=96.1, loss=0.103]\n",
      "Época 7/50 (Val): 100%|██████████| 146/146 [00:14<00:00,  9.75it/s, loss=0.104] \n"
     ]
    },
    {
     "name": "stdout",
     "output_type": "stream",
     "text": [
      "Learning rate atual: 0.000100\n",
      "Época 7/50 - Tempo: 370.95s - Treino Loss: 0.1028 - Treino Acc: 96.12% - Val Loss: 0.1160 - Val Acc: 96.13% - Val F1: 0.9614\n",
      "EarlyStopping: 1/10\n"
     ]
    },
    {
     "name": "stderr",
     "output_type": "stream",
     "text": [
      "Época 8/50 (Treino): 100%|██████████| 1024/1024 [05:55<00:00,  2.88it/s, acc=96.5, loss=0.089] \n",
      "Época 8/50 (Val): 100%|██████████| 146/146 [00:14<00:00,  9.80it/s, loss=0.106]  \n"
     ]
    },
    {
     "name": "stdout",
     "output_type": "stream",
     "text": [
      "Learning rate atual: 0.000100\n",
      "Época 8/50 - Tempo: 370.24s - Treino Loss: 0.0888 - Treino Acc: 96.56% - Val Loss: 0.1233 - Val Acc: 96.17% - Val F1: 0.9615\n",
      "EarlyStopping: 2/10\n"
     ]
    },
    {
     "name": "stderr",
     "output_type": "stream",
     "text": [
      "Época 9/50 (Treino): 100%|██████████| 1024/1024 [05:55<00:00,  2.88it/s, acc=97, loss=0.0796] \n",
      "Época 9/50 (Val): 100%|██████████| 146/146 [00:14<00:00,  9.77it/s, loss=0.129]\n"
     ]
    },
    {
     "name": "stdout",
     "output_type": "stream",
     "text": [
      "Learning rate atual: 0.000100\n",
      "Época 9/50 - Tempo: 370.94s - Treino Loss: 0.0794 - Treino Acc: 97.05% - Val Loss: 0.1408 - Val Acc: 95.70% - Val F1: 0.9574\n"
     ]
    },
    {
     "name": "stderr",
     "output_type": "stream",
     "text": [
      "Época 10/50 (Treino): 100%|██████████| 1024/1024 [05:55<00:00,  2.88it/s, acc=97.3, loss=0.0732]\n",
      "Época 10/50 (Val): 100%|██████████| 146/146 [00:15<00:00,  9.73it/s, loss=0.185]\n"
     ]
    },
    {
     "name": "stdout",
     "output_type": "stream",
     "text": [
      "Learning rate atual: 0.000100\n",
      "Época 10/50 - Tempo: 370.35s - Treino Loss: 0.0735 - Treino Acc: 97.26% - Val Loss: 0.1851 - Val Acc: 93.12% - Val F1: 0.9332\n",
      "EarlyStopping: 4/10\n"
     ]
    },
    {
     "name": "stderr",
     "output_type": "stream",
     "text": [
      "Época 11/50 (Treino): 100%|██████████| 1024/1024 [05:55<00:00,  2.88it/s, acc=97.5, loss=0.0652]\n",
      "Época 11/50 (Val): 100%|██████████| 146/146 [00:14<00:00,  9.79it/s, loss=0.126]\n"
     ]
    },
    {
     "name": "stdout",
     "output_type": "stream",
     "text": [
      "Learning rate atual: 0.000100\n",
      "Época 11/50 - Tempo: 370.04s - Treino Loss: 0.0650 - Treino Acc: 97.54% - Val Loss: 0.1398 - Val Acc: 94.80% - Val F1: 0.9486\n"
     ]
    },
    {
     "name": "stderr",
     "output_type": "stream",
     "text": [
      "Época 12/50 (Treino): 100%|██████████| 1024/1024 [05:56<00:00,  2.87it/s, acc=97.8, loss=0.0604]\n",
      "Época 12/50 (Val): 100%|██████████| 146/146 [00:14<00:00,  9.76it/s, loss=0.196]\n"
     ]
    },
    {
     "name": "stdout",
     "output_type": "stream",
     "text": [
      "Learning rate atual: 0.000050\n",
      "Época 12/50 - Tempo: 371.64s - Treino Loss: 0.0603 - Treino Acc: 97.79% - Val Loss: 0.2004 - Val Acc: 92.95% - Val F1: 0.9314\n",
      "EarlyStopping: 6/10\n"
     ]
    },
    {
     "name": "stderr",
     "output_type": "stream",
     "text": [
      "Época 13/50 (Treino): 100%|██████████| 1024/1024 [05:56<00:00,  2.88it/s, acc=98.9, loss=0.0308]\n",
      "Época 13/50 (Val): 100%|██████████| 146/146 [00:14<00:00,  9.75it/s, loss=0.16] \n"
     ]
    },
    {
     "name": "stdout",
     "output_type": "stream",
     "text": [
      "Learning rate atual: 0.000050\n",
      "Época 13/50 - Tempo: 371.14s - Treino Loss: 0.0307 - Treino Acc: 98.87% - Val Loss: 0.1725 - Val Acc: 95.31% - Val F1: 0.9534\n"
     ]
    },
    {
     "name": "stderr",
     "output_type": "stream",
     "text": [
      "Época 14/50 (Treino): 100%|██████████| 1024/1024 [06:02<00:00,  2.83it/s, acc=99.2, loss=0.0235]\n",
      "Época 14/50 (Val): 100%|██████████| 146/146 [00:14<00:00,  9.75it/s, loss=0.0804] \n"
     ]
    },
    {
     "name": "stdout",
     "output_type": "stream",
     "text": [
      "Learning rate atual: 0.000050\n",
      "Época 14/50 - Tempo: 377.33s - Treino Loss: 0.0236 - Treino Acc: 99.18% - Val Loss: 0.0919 - Val Acc: 97.42% - Val F1: 0.9743\n",
      "Melhor modelo salvo com Val Loss: 0.0919\n"
     ]
    },
    {
     "name": "stderr",
     "output_type": "stream",
     "text": [
      "Época 15/50 (Treino): 100%|██████████| 1024/1024 [05:54<00:00,  2.89it/s, acc=99.1, loss=0.0245]\n",
      "Época 15/50 (Val): 100%|██████████| 146/146 [00:14<00:00,  9.80it/s, loss=0.118] \n"
     ]
    },
    {
     "name": "stdout",
     "output_type": "stream",
     "text": [
      "Learning rate atual: 0.000050\n",
      "Época 15/50 - Tempo: 369.67s - Treino Loss: 0.0245 - Treino Acc: 99.14% - Val Loss: 0.1302 - Val Acc: 96.69% - Val F1: 0.9670\n",
      "EarlyStopping: 1/10\n"
     ]
    },
    {
     "name": "stderr",
     "output_type": "stream",
     "text": [
      "Época 16/50 (Treino): 100%|██████████| 1024/1024 [05:55<00:00,  2.88it/s, acc=99.1, loss=0.0264]\n",
      "Época 16/50 (Val): 100%|██████████| 146/146 [00:14<00:00,  9.78it/s, loss=0.152]\n"
     ]
    },
    {
     "name": "stdout",
     "output_type": "stream",
     "text": [
      "Learning rate atual: 0.000050\n",
      "Época 16/50 - Tempo: 370.34s - Treino Loss: 0.0263 - Treino Acc: 99.10% - Val Loss: 0.1657 - Val Acc: 95.23% - Val F1: 0.9531\n",
      "EarlyStopping: 2/10\n"
     ]
    },
    {
     "name": "stderr",
     "output_type": "stream",
     "text": [
      "Época 17/50 (Treino): 100%|██████████| 1024/1024 [05:54<00:00,  2.88it/s, acc=99.3, loss=0.0184]\n",
      "Época 17/50 (Val): 100%|██████████| 146/146 [00:14<00:00,  9.82it/s, loss=0.111]  \n"
     ]
    },
    {
     "name": "stdout",
     "output_type": "stream",
     "text": [
      "Learning rate atual: 0.000050\n",
      "Época 17/50 - Tempo: 369.85s - Treino Loss: 0.0184 - Treino Acc: 99.33% - Val Loss: 0.1228 - Val Acc: 96.35% - Val F1: 0.9639\n"
     ]
    },
    {
     "name": "stderr",
     "output_type": "stream",
     "text": [
      "Época 18/50 (Treino): 100%|██████████| 1024/1024 [05:53<00:00,  2.90it/s, acc=99.4, loss=0.019] \n",
      "Época 18/50 (Val): 100%|██████████| 146/146 [00:14<00:00,  9.84it/s, loss=0.172]\n"
     ]
    },
    {
     "name": "stdout",
     "output_type": "stream",
     "text": [
      "Learning rate atual: 0.000050\n",
      "Época 18/50 - Tempo: 368.02s - Treino Loss: 0.0189 - Treino Acc: 99.35% - Val Loss: 0.1907 - Val Acc: 95.14% - Val F1: 0.9521\n",
      "EarlyStopping: 4/10\n"
     ]
    },
    {
     "name": "stderr",
     "output_type": "stream",
     "text": [
      "Época 19/50 (Treino): 100%|██████████| 1024/1024 [05:53<00:00,  2.90it/s, acc=99.3, loss=0.0185]\n",
      "Época 19/50 (Val): 100%|██████████| 146/146 [00:14<00:00,  9.82it/s, loss=0.133] \n"
     ]
    },
    {
     "name": "stdout",
     "output_type": "stream",
     "text": [
      "Learning rate atual: 0.000050\n",
      "Época 19/50 - Tempo: 368.25s - Treino Loss: 0.0185 - Treino Acc: 99.34% - Val Loss: 0.1415 - Val Acc: 95.74% - Val F1: 0.9581\n"
     ]
    },
    {
     "name": "stderr",
     "output_type": "stream",
     "text": [
      "Época 20/50 (Treino): 100%|██████████| 1024/1024 [05:53<00:00,  2.90it/s, acc=99.4, loss=0.0199]\n",
      "Época 20/50 (Val): 100%|██████████| 146/146 [00:14<00:00,  9.84it/s, loss=0.15] \n"
     ]
    },
    {
     "name": "stdout",
     "output_type": "stream",
     "text": [
      "Learning rate atual: 0.000025\n",
      "Época 20/50 - Tempo: 368.15s - Treino Loss: 0.0198 - Treino Acc: 99.39% - Val Loss: 0.1606 - Val Acc: 95.27% - Val F1: 0.9535\n",
      "EarlyStopping: 6/10\n"
     ]
    },
    {
     "name": "stderr",
     "output_type": "stream",
     "text": [
      "Época 21/50 (Treino): 100%|██████████| 1024/1024 [05:53<00:00,  2.90it/s, acc=99.7, loss=0.00841]\n",
      "Época 21/50 (Val): 100%|██████████| 146/146 [00:14<00:00,  9.86it/s, loss=0.148]\n"
     ]
    },
    {
     "name": "stdout",
     "output_type": "stream",
     "text": [
      "Learning rate atual: 0.000025\n",
      "Época 21/50 - Tempo: 368.04s - Treino Loss: 0.0084 - Treino Acc: 99.71% - Val Loss: 0.1580 - Val Acc: 96.04% - Val F1: 0.9611\n"
     ]
    },
    {
     "name": "stderr",
     "output_type": "stream",
     "text": [
      "Época 22/50 (Treino): 100%|██████████| 1024/1024 [05:53<00:00,  2.90it/s, acc=99.6, loss=0.0104]\n",
      "Época 22/50 (Val): 100%|██████████| 146/146 [00:14<00:00,  9.85it/s, loss=0.148]\n"
     ]
    },
    {
     "name": "stdout",
     "output_type": "stream",
     "text": [
      "Learning rate atual: 0.000025\n",
      "Época 22/50 - Tempo: 367.94s - Treino Loss: 0.0105 - Treino Acc: 99.61% - Val Loss: 0.1599 - Val Acc: 95.57% - Val F1: 0.9564\n",
      "EarlyStopping: 8/10\n"
     ]
    },
    {
     "name": "stderr",
     "output_type": "stream",
     "text": [
      "Época 23/50 (Treino): 100%|██████████| 1024/1024 [05:53<00:00,  2.90it/s, acc=99.7, loss=0.00829]\n",
      "Época 23/50 (Val): 100%|██████████| 146/146 [00:14<00:00,  9.84it/s, loss=0.13]  \n"
     ]
    },
    {
     "name": "stdout",
     "output_type": "stream",
     "text": [
      "Learning rate atual: 0.000025\n",
      "Época 23/50 - Tempo: 368.15s - Treino Loss: 0.0083 - Treino Acc: 99.71% - Val Loss: 0.1436 - Val Acc: 96.43% - Val F1: 0.9646\n"
     ]
    },
    {
     "name": "stderr",
     "output_type": "stream",
     "text": [
      "Época 24/50 (Treino): 100%|██████████| 1024/1024 [05:53<00:00,  2.90it/s, acc=99.7, loss=0.00924]\n",
      "Época 24/50 (Val): 100%|██████████| 146/146 [00:14<00:00,  9.81it/s, loss=0.16]   \n"
     ]
    },
    {
     "name": "stdout",
     "output_type": "stream",
     "text": [
      "Learning rate atual: 0.000025\n",
      "Época 24/50 - Tempo: 368.14s - Treino Loss: 0.0092 - Treino Acc: 99.70% - Val Loss: 0.1705 - Val Acc: 95.57% - Val F1: 0.9564\n",
      "EarlyStopping: 10/10\n",
      "Early Stopping ativado na época 24. Treinamento interrompido.\n",
      "Treinamento interrompido por Early Stopping após 24 épocas.\n",
      "Usando o melhor modelo da época 14 com val_loss: 0.0919\n",
      "Avaliando modelo convnext-base no conjunto de teste...\n"
     ]
    },
    {
     "name": "stderr",
     "output_type": "stream",
     "text": [
      "Avaliando no conjunto de teste: 100%|██████████| 61/61 [00:06<00:00,  9.15it/s]\n"
     ]
    },
    {
     "name": "stdout",
     "output_type": "stream",
     "text": [
      "Métricas de Teste:\n",
      "Acurácia: 0.8863\n",
      "Precisão: 0.8838\n",
      "Recall: 0.8863\n",
      "F1-Score: 0.8847\n",
      "AUC-ROC: 0.9253\n",
      "Matriz de Confusão:\n",
      "[[702  47]\n",
      " [ 64 163]]\n",
      "Benchmark do modelo convnext-base concluído em 149.36 minutos\n",
      "\n",
      "==================================================\n",
      "Benchmark do modelo: ViT-Base\n",
      "==================================================\n"
     ]
    },
    {
     "name": "stderr",
     "output_type": "stream",
     "text": [
      "Fast image processor class <class 'transformers.models.vit.image_processing_vit_fast.ViTImageProcessorFast'> is available for this model. Using slow image processor class. To use the fast image processor class set `use_fast=True`.\n",
      "Some weights of ViTForImageClassification were not initialized from the model checkpoint at google/vit-base-patch16-224 and are newly initialized because the shapes did not match:\n",
      "- classifier.bias: found shape torch.Size([1000]) in the checkpoint and torch.Size([2]) in the model instantiated\n",
      "- classifier.weight: found shape torch.Size([1000, 768]) in the checkpoint and torch.Size([2, 768]) in the model instantiated\n",
      "You should probably TRAIN this model on a down-stream task to be able to use it for predictions and inference.\n"
     ]
    },
    {
     "name": "stdout",
     "output_type": "stream",
     "text": [
      "Dataset carregado:\n",
      "Treino: 16384 imagens\n",
      "Validação: 2326 imagens\n",
      "Teste: 976 imagens\n",
      "Classes: ['all', 'hem']\n",
      "Configurado scheduler ReduceLROnPlateau com patience=5, factor=0.5\n",
      "Iniciando treinamento do modelo ViT-Base...\n"
     ]
    },
    {
     "name": "stderr",
     "output_type": "stream",
     "text": [
      "Época 1/50 (Treino): 100%|██████████| 1024/1024 [12:39<00:00,  1.35it/s, acc=78.9, loss=0.449]\n",
      "Época 1/50 (Val): 100%|██████████| 146/146 [01:13<00:00,  1.98it/s, loss=0.331]\n"
     ]
    },
    {
     "name": "stdout",
     "output_type": "stream",
     "text": [
      "Learning rate atual: 0.000100\n",
      "Época 1/50 - Tempo: 833.35s - Treino Loss: 0.4488 - Treino Acc: 78.95% - Val Loss: 0.3574 - Val Acc: 85.64% - Val F1: 0.8593\n",
      "Melhor modelo salvo com Val Loss: 0.3574\n"
     ]
    },
    {
     "name": "stderr",
     "output_type": "stream",
     "text": [
      "Época 2/50 (Treino): 100%|██████████| 1024/1024 [05:07<00:00,  3.33it/s, acc=83.3, loss=0.374]\n",
      "Época 2/50 (Val): 100%|██████████| 146/146 [00:13<00:00, 10.68it/s, loss=0.248]\n"
     ]
    },
    {
     "name": "stdout",
     "output_type": "stream",
     "text": [
      "Learning rate atual: 0.000100\n",
      "Época 2/50 - Tempo: 321.46s - Treino Loss: 0.3737 - Treino Acc: 83.33% - Val Loss: 0.2710 - Val Acc: 91.79% - Val F1: 0.9175\n",
      "Melhor modelo salvo com Val Loss: 0.2710\n"
     ]
    },
    {
     "name": "stderr",
     "output_type": "stream",
     "text": [
      "Época 3/50 (Treino): 100%|██████████| 1024/1024 [05:07<00:00,  3.33it/s, acc=84.8, loss=0.337]\n",
      "Época 3/50 (Val): 100%|██████████| 146/146 [00:13<00:00, 10.69it/s, loss=0.359]\n"
     ]
    },
    {
     "name": "stdout",
     "output_type": "stream",
     "text": [
      "Learning rate atual: 0.000100\n",
      "Época 3/50 - Tempo: 321.43s - Treino Loss: 0.3366 - Treino Acc: 84.76% - Val Loss: 0.3650 - Val Acc: 82.46% - Val F1: 0.8345\n",
      "EarlyStopping: 1/10\n"
     ]
    },
    {
     "name": "stderr",
     "output_type": "stream",
     "text": [
      "Época 4/50 (Treino): 100%|██████████| 1024/1024 [05:07<00:00,  3.33it/s, acc=86.6, loss=0.306]\n",
      "Época 4/50 (Val): 100%|██████████| 146/146 [00:13<00:00, 10.67it/s, loss=0.215]\n"
     ]
    },
    {
     "name": "stdout",
     "output_type": "stream",
     "text": [
      "Learning rate atual: 0.000100\n",
      "Época 4/50 - Tempo: 321.51s - Treino Loss: 0.3057 - Treino Acc: 86.63% - Val Loss: 0.2319 - Val Acc: 91.79% - Val F1: 0.9195\n",
      "Melhor modelo salvo com Val Loss: 0.2319\n"
     ]
    },
    {
     "name": "stderr",
     "output_type": "stream",
     "text": [
      "Época 5/50 (Treino): 100%|██████████| 1024/1024 [05:07<00:00,  3.33it/s, acc=88, loss=0.278]  \n",
      "Época 5/50 (Val): 100%|██████████| 146/146 [00:13<00:00, 10.68it/s, loss=0.191]\n"
     ]
    },
    {
     "name": "stdout",
     "output_type": "stream",
     "text": [
      "Learning rate atual: 0.000100\n",
      "Época 5/50 - Tempo: 321.56s - Treino Loss: 0.2789 - Treino Acc: 88.01% - Val Loss: 0.2105 - Val Acc: 92.43% - Val F1: 0.9234\n",
      "Melhor modelo salvo com Val Loss: 0.2105\n"
     ]
    },
    {
     "name": "stderr",
     "output_type": "stream",
     "text": [
      "Época 6/50 (Treino): 100%|██████████| 1024/1024 [05:07<00:00,  3.33it/s, acc=88.7, loss=0.265]\n",
      "Época 6/50 (Val): 100%|██████████| 146/146 [00:13<00:00, 10.65it/s, loss=0.232]\n"
     ]
    },
    {
     "name": "stdout",
     "output_type": "stream",
     "text": [
      "Learning rate atual: 0.000100\n",
      "Época 6/50 - Tempo: 321.56s - Treino Loss: 0.2649 - Treino Acc: 88.64% - Val Loss: 0.2454 - Val Acc: 91.87% - Val F1: 0.9187\n",
      "EarlyStopping: 1/10\n"
     ]
    },
    {
     "name": "stderr",
     "output_type": "stream",
     "text": [
      "Época 7/50 (Treino): 100%|██████████| 1024/1024 [05:07<00:00,  3.33it/s, acc=89.8, loss=0.241]\n",
      "Época 7/50 (Val): 100%|██████████| 146/146 [00:13<00:00, 10.68it/s, loss=0.145]\n"
     ]
    },
    {
     "name": "stdout",
     "output_type": "stream",
     "text": [
      "Learning rate atual: 0.000100\n",
      "Época 7/50 - Tempo: 321.43s - Treino Loss: 0.2405 - Treino Acc: 89.84% - Val Loss: 0.1696 - Val Acc: 95.14% - Val F1: 0.9510\n",
      "Melhor modelo salvo com Val Loss: 0.1696\n"
     ]
    },
    {
     "name": "stderr",
     "output_type": "stream",
     "text": [
      "Época 8/50 (Treino): 100%|██████████| 1024/1024 [05:08<00:00,  3.32it/s, acc=90.9, loss=0.222]\n",
      "Época 8/50 (Val): 100%|██████████| 146/146 [00:13<00:00, 10.68it/s, loss=0.219]\n"
     ]
    },
    {
     "name": "stdout",
     "output_type": "stream",
     "text": [
      "Learning rate atual: 0.000100\n",
      "Época 8/50 - Tempo: 321.70s - Treino Loss: 0.2228 - Treino Acc: 90.83% - Val Loss: 0.2324 - Val Acc: 91.44% - Val F1: 0.9165\n",
      "EarlyStopping: 1/10\n"
     ]
    },
    {
     "name": "stderr",
     "output_type": "stream",
     "text": [
      "Época 9/50 (Treino): 100%|██████████| 1024/1024 [05:07<00:00,  3.33it/s, acc=91.7, loss=0.205]\n",
      "Época 9/50 (Val): 100%|██████████| 146/146 [00:13<00:00, 10.66it/s, loss=0.249]\n"
     ]
    },
    {
     "name": "stdout",
     "output_type": "stream",
     "text": [
      "Learning rate atual: 0.000100\n",
      "Época 9/50 - Tempo: 321.35s - Treino Loss: 0.2048 - Treino Acc: 91.69% - Val Loss: 0.2655 - Val Acc: 88.35% - Val F1: 0.8879\n",
      "EarlyStopping: 2/10\n"
     ]
    },
    {
     "name": "stderr",
     "output_type": "stream",
     "text": [
      "Época 10/50 (Treino): 100%|██████████| 1024/1024 [05:07<00:00,  3.33it/s, acc=92, loss=0.196]  \n",
      "Época 10/50 (Val): 100%|██████████| 146/146 [00:13<00:00, 10.68it/s, loss=0.336]\n"
     ]
    },
    {
     "name": "stdout",
     "output_type": "stream",
     "text": [
      "Learning rate atual: 0.000100\n",
      "Época 10/50 - Tempo: 321.34s - Treino Loss: 0.1963 - Treino Acc: 92.03% - Val Loss: 0.3345 - Val Acc: 86.76% - Val F1: 0.8745\n"
     ]
    },
    {
     "name": "stderr",
     "output_type": "stream",
     "text": [
      "Época 11/50 (Treino): 100%|██████████| 1024/1024 [05:07<00:00,  3.33it/s, acc=92.2, loss=0.191]\n",
      "Época 11/50 (Val): 100%|██████████| 146/146 [00:13<00:00, 10.65it/s, loss=0.174]\n"
     ]
    },
    {
     "name": "stdout",
     "output_type": "stream",
     "text": [
      "Learning rate atual: 0.000100\n",
      "Época 11/50 - Tempo: 321.40s - Treino Loss: 0.1908 - Treino Acc: 92.22% - Val Loss: 0.1954 - Val Acc: 92.78% - Val F1: 0.9286\n",
      "EarlyStopping: 4/10\n"
     ]
    },
    {
     "name": "stderr",
     "output_type": "stream",
     "text": [
      "Época 12/50 (Treino): 100%|██████████| 1024/1024 [05:07<00:00,  3.33it/s, acc=92.8, loss=0.18] \n",
      "Época 12/50 (Val): 100%|██████████| 146/146 [00:13<00:00, 10.66it/s, loss=0.237]\n"
     ]
    },
    {
     "name": "stdout",
     "output_type": "stream",
     "text": [
      "Learning rate atual: 0.000100\n",
      "Época 12/50 - Tempo: 321.38s - Treino Loss: 0.1799 - Treino Acc: 92.78% - Val Loss: 0.2454 - Val Acc: 90.33% - Val F1: 0.9065\n"
     ]
    },
    {
     "name": "stderr",
     "output_type": "stream",
     "text": [
      "Época 13/50 (Treino): 100%|██████████| 1024/1024 [05:07<00:00,  3.33it/s, acc=93.2, loss=0.168]\n",
      "Época 13/50 (Val): 100%|██████████| 146/146 [00:13<00:00, 10.66it/s, loss=0.137] \n"
     ]
    },
    {
     "name": "stdout",
     "output_type": "stream",
     "text": [
      "Learning rate atual: 0.000100\n",
      "Época 13/50 - Tempo: 321.28s - Treino Loss: 0.1678 - Treino Acc: 93.16% - Val Loss: 0.1636 - Val Acc: 94.71% - Val F1: 0.9469\n",
      "Melhor modelo salvo com Val Loss: 0.1636\n"
     ]
    },
    {
     "name": "stderr",
     "output_type": "stream",
     "text": [
      "Época 14/50 (Treino): 100%|██████████| 1024/1024 [05:08<00:00,  3.32it/s, acc=93.4, loss=0.167]\n",
      "Época 14/50 (Val): 100%|██████████| 146/146 [00:13<00:00, 10.86it/s, loss=0.279]\n"
     ]
    },
    {
     "name": "stdout",
     "output_type": "stream",
     "text": [
      "Learning rate atual: 0.000100\n",
      "Época 14/50 - Tempo: 321.53s - Treino Loss: 0.1668 - Treino Acc: 93.37% - Val Loss: 0.2805 - Val Acc: 88.48% - Val F1: 0.8892\n",
      "EarlyStopping: 1/10\n"
     ]
    },
    {
     "name": "stderr",
     "output_type": "stream",
     "text": [
      "Época 15/50 (Treino): 100%|██████████| 1024/1024 [05:08<00:00,  3.32it/s, acc=93.8, loss=0.155]\n",
      "Época 15/50 (Val): 100%|██████████| 146/146 [00:13<00:00, 10.77it/s, loss=0.177]\n"
     ]
    },
    {
     "name": "stdout",
     "output_type": "stream",
     "text": [
      "Learning rate atual: 0.000100\n",
      "Época 15/50 - Tempo: 321.68s - Treino Loss: 0.1548 - Treino Acc: 93.80% - Val Loss: 0.1825 - Val Acc: 93.68% - Val F1: 0.9376\n",
      "EarlyStopping: 2/10\n"
     ]
    },
    {
     "name": "stderr",
     "output_type": "stream",
     "text": [
      "Época 16/50 (Treino): 100%|██████████| 1024/1024 [05:07<00:00,  3.33it/s, acc=94.1, loss=0.151]\n",
      "Época 16/50 (Val): 100%|██████████| 146/146 [00:14<00:00, 10.42it/s, loss=0.261]\n"
     ]
    },
    {
     "name": "stdout",
     "output_type": "stream",
     "text": [
      "Learning rate atual: 0.000100\n",
      "Época 16/50 - Tempo: 321.48s - Treino Loss: 0.1509 - Treino Acc: 94.06% - Val Loss: 0.2622 - Val Acc: 89.04% - Val F1: 0.8948\n"
     ]
    },
    {
     "name": "stderr",
     "output_type": "stream",
     "text": [
      "Época 17/50 (Treino): 100%|██████████| 1024/1024 [05:07<00:00,  3.33it/s, acc=94.1, loss=0.146]\n",
      "Época 17/50 (Val): 100%|██████████| 146/146 [00:14<00:00, 10.39it/s, loss=0.155]\n"
     ]
    },
    {
     "name": "stdout",
     "output_type": "stream",
     "text": [
      "Learning rate atual: 0.000100\n",
      "Época 17/50 - Tempo: 321.55s - Treino Loss: 0.1460 - Treino Acc: 94.08% - Val Loss: 0.1595 - Val Acc: 93.90% - Val F1: 0.9398\n",
      "Melhor modelo salvo com Val Loss: 0.1595\n"
     ]
    },
    {
     "name": "stderr",
     "output_type": "stream",
     "text": [
      "Época 18/50 (Treino): 100%|██████████| 1024/1024 [05:07<00:00,  3.33it/s, acc=94.6, loss=0.141]\n",
      "Época 18/50 (Val): 100%|██████████| 146/146 [00:14<00:00, 10.37it/s, loss=0.203]\n"
     ]
    },
    {
     "name": "stdout",
     "output_type": "stream",
     "text": [
      "Learning rate atual: 0.000100\n",
      "Época 18/50 - Tempo: 321.67s - Treino Loss: 0.1411 - Treino Acc: 94.56% - Val Loss: 0.2136 - Val Acc: 92.09% - Val F1: 0.9229\n",
      "EarlyStopping: 1/10\n"
     ]
    },
    {
     "name": "stderr",
     "output_type": "stream",
     "text": [
      "Época 19/50 (Treino): 100%|██████████| 1024/1024 [05:07<00:00,  3.33it/s, acc=94.8, loss=0.135]\n",
      "Época 19/50 (Val): 100%|██████████| 146/146 [00:13<00:00, 10.81it/s, loss=0.164]\n"
     ]
    },
    {
     "name": "stdout",
     "output_type": "stream",
     "text": [
      "Learning rate atual: 0.000100\n",
      "Época 19/50 - Tempo: 321.11s - Treino Loss: 0.1353 - Treino Acc: 94.82% - Val Loss: 0.1742 - Val Acc: 93.04% - Val F1: 0.9318\n",
      "EarlyStopping: 2/10\n"
     ]
    },
    {
     "name": "stderr",
     "output_type": "stream",
     "text": [
      "Época 20/50 (Treino): 100%|██████████| 1024/1024 [05:08<00:00,  3.32it/s, acc=94.9, loss=0.129]\n",
      "Época 20/50 (Val): 100%|██████████| 146/146 [00:13<00:00, 10.83it/s, loss=0.253]\n"
     ]
    },
    {
     "name": "stdout",
     "output_type": "stream",
     "text": [
      "Learning rate atual: 0.000100\n",
      "Época 20/50 - Tempo: 321.64s - Treino Loss: 0.1289 - Treino Acc: 94.85% - Val Loss: 0.2581 - Val Acc: 89.98% - Val F1: 0.9036\n"
     ]
    },
    {
     "name": "stderr",
     "output_type": "stream",
     "text": [
      "Época 21/50 (Treino): 100%|██████████| 1024/1024 [05:08<00:00,  3.32it/s, acc=94.9, loss=0.129]\n",
      "Época 21/50 (Val): 100%|██████████| 146/146 [00:13<00:00, 10.86it/s, loss=0.265]\n"
     ]
    },
    {
     "name": "stdout",
     "output_type": "stream",
     "text": [
      "Learning rate atual: 0.000100\n",
      "Época 21/50 - Tempo: 321.56s - Treino Loss: 0.1291 - Treino Acc: 94.93% - Val Loss: 0.2609 - Val Acc: 90.67% - Val F1: 0.9097\n",
      "EarlyStopping: 4/10\n"
     ]
    },
    {
     "name": "stderr",
     "output_type": "stream",
     "text": [
      "Época 22/50 (Treino): 100%|██████████| 1024/1024 [05:07<00:00,  3.33it/s, acc=95.4, loss=0.116]\n",
      "Época 22/50 (Val): 100%|██████████| 146/146 [00:14<00:00, 10.33it/s, loss=0.141]\n"
     ]
    },
    {
     "name": "stdout",
     "output_type": "stream",
     "text": [
      "Learning rate atual: 0.000100\n",
      "Época 22/50 - Tempo: 321.44s - Treino Loss: 0.1161 - Treino Acc: 95.40% - Val Loss: 0.1497 - Val Acc: 94.84% - Val F1: 0.9489\n",
      "Melhor modelo salvo com Val Loss: 0.1497\n"
     ]
    },
    {
     "name": "stderr",
     "output_type": "stream",
     "text": [
      "Época 23/50 (Treino): 100%|██████████| 1024/1024 [05:09<00:00,  3.31it/s, acc=95.5, loss=0.113]\n",
      "Época 23/50 (Val): 100%|██████████| 146/146 [00:14<00:00, 10.35it/s, loss=0.192] \n"
     ]
    },
    {
     "name": "stdout",
     "output_type": "stream",
     "text": [
      "Learning rate atual: 0.000100\n",
      "Época 23/50 - Tempo: 323.42s - Treino Loss: 0.1131 - Treino Acc: 95.47% - Val Loss: 0.1971 - Val Acc: 93.12% - Val F1: 0.9320\n",
      "EarlyStopping: 1/10\n"
     ]
    },
    {
     "name": "stderr",
     "output_type": "stream",
     "text": [
      "Época 24/50 (Treino): 100%|██████████| 1024/1024 [05:07<00:00,  3.33it/s, acc=95.5, loss=0.113]\n",
      "Época 24/50 (Val): 100%|██████████| 146/146 [00:14<00:00, 10.31it/s, loss=0.135] \n"
     ]
    },
    {
     "name": "stdout",
     "output_type": "stream",
     "text": [
      "Learning rate atual: 0.000100\n",
      "Época 24/50 - Tempo: 321.39s - Treino Loss: 0.1129 - Treino Acc: 95.53% - Val Loss: 0.1419 - Val Acc: 95.01% - Val F1: 0.9504\n",
      "Melhor modelo salvo com Val Loss: 0.1419\n"
     ]
    },
    {
     "name": "stderr",
     "output_type": "stream",
     "text": [
      "Época 25/50 (Treino): 100%|██████████| 1024/1024 [05:07<00:00,  3.33it/s, acc=95.6, loss=0.111]\n",
      "Época 25/50 (Val): 100%|██████████| 146/146 [00:13<00:00, 10.86it/s, loss=0.223]\n"
     ]
    },
    {
     "name": "stdout",
     "output_type": "stream",
     "text": [
      "Learning rate atual: 0.000100\n",
      "Época 25/50 - Tempo: 320.95s - Treino Loss: 0.1104 - Treino Acc: 95.62% - Val Loss: 0.2370 - Val Acc: 92.61% - Val F1: 0.9271\n",
      "EarlyStopping: 1/10\n"
     ]
    },
    {
     "name": "stderr",
     "output_type": "stream",
     "text": [
      "Época 26/50 (Treino): 100%|██████████| 1024/1024 [05:08<00:00,  3.32it/s, acc=95.7, loss=0.107]\n",
      "Época 26/50 (Val): 100%|██████████| 146/146 [00:13<00:00, 10.84it/s, loss=0.196]\n"
     ]
    },
    {
     "name": "stdout",
     "output_type": "stream",
     "text": [
      "Learning rate atual: 0.000100\n",
      "Época 26/50 - Tempo: 321.50s - Treino Loss: 0.1072 - Treino Acc: 95.74% - Val Loss: 0.1977 - Val Acc: 92.43% - Val F1: 0.9266\n",
      "EarlyStopping: 2/10\n"
     ]
    },
    {
     "name": "stderr",
     "output_type": "stream",
     "text": [
      "Época 27/50 (Treino): 100%|██████████| 1024/1024 [05:07<00:00,  3.33it/s, acc=96.3, loss=0.0984]\n",
      "Época 27/50 (Val): 100%|██████████| 146/146 [00:14<00:00, 10.39it/s, loss=0.241]\n"
     ]
    },
    {
     "name": "stdout",
     "output_type": "stream",
     "text": [
      "Learning rate atual: 0.000100\n",
      "Época 27/50 - Tempo: 321.44s - Treino Loss: 0.0987 - Treino Acc: 96.27% - Val Loss: 0.2431 - Val Acc: 91.92% - Val F1: 0.9219\n"
     ]
    },
    {
     "name": "stderr",
     "output_type": "stream",
     "text": [
      "Época 28/50 (Treino): 100%|██████████| 1024/1024 [05:07<00:00,  3.33it/s, acc=96.1, loss=0.1]   \n",
      "Época 28/50 (Val): 100%|██████████| 146/146 [00:14<00:00, 10.37it/s, loss=0.179]  \n"
     ]
    },
    {
     "name": "stdout",
     "output_type": "stream",
     "text": [
      "Learning rate atual: 0.000100\n",
      "Época 28/50 - Tempo: 321.51s - Treino Loss: 0.0998 - Treino Acc: 96.11% - Val Loss: 0.1966 - Val Acc: 94.41% - Val F1: 0.9439\n",
      "EarlyStopping: 4/10\n"
     ]
    },
    {
     "name": "stderr",
     "output_type": "stream",
     "text": [
      "Época 29/50 (Treino): 100%|██████████| 1024/1024 [05:07<00:00,  3.33it/s, acc=96.4, loss=0.095] \n",
      "Época 29/50 (Val): 100%|██████████| 146/146 [00:14<00:00, 10.31it/s, loss=0.264]\n"
     ]
    },
    {
     "name": "stdout",
     "output_type": "stream",
     "text": [
      "Learning rate atual: 0.000100\n",
      "Época 29/50 - Tempo: 321.77s - Treino Loss: 0.0950 - Treino Acc: 96.42% - Val Loss: 0.2668 - Val Acc: 90.58% - Val F1: 0.9094\n"
     ]
    },
    {
     "name": "stderr",
     "output_type": "stream",
     "text": [
      "Época 30/50 (Treino): 100%|██████████| 1024/1024 [05:07<00:00,  3.33it/s, acc=96.2, loss=0.0965]\n",
      "Época 30/50 (Val): 100%|██████████| 146/146 [00:14<00:00, 10.37it/s, loss=0.144] \n"
     ]
    },
    {
     "name": "stdout",
     "output_type": "stream",
     "text": [
      "Learning rate atual: 0.000050\n",
      "Época 30/50 - Tempo: 321.73s - Treino Loss: 0.0963 - Treino Acc: 96.22% - Val Loss: 0.1477 - Val Acc: 94.37% - Val F1: 0.9447\n",
      "EarlyStopping: 6/10\n"
     ]
    },
    {
     "name": "stderr",
     "output_type": "stream",
     "text": [
      "Época 31/50 (Treino): 100%|██████████| 1024/1024 [05:08<00:00,  3.32it/s, acc=97.8, loss=0.0584]\n",
      "Época 31/50 (Val): 100%|██████████| 146/146 [00:13<00:00, 10.89it/s, loss=0.148] \n"
     ]
    },
    {
     "name": "stdout",
     "output_type": "stream",
     "text": [
      "Learning rate atual: 0.000050\n",
      "Época 31/50 - Tempo: 321.46s - Treino Loss: 0.0585 - Treino Acc: 97.80% - Val Loss: 0.1546 - Val Acc: 95.31% - Val F1: 0.9531\n"
     ]
    },
    {
     "name": "stderr",
     "output_type": "stream",
     "text": [
      "Época 32/50 (Treino): 100%|██████████| 1024/1024 [05:08<00:00,  3.32it/s, acc=98.2, loss=0.0478]\n",
      "Época 32/50 (Val): 100%|██████████| 146/146 [00:13<00:00, 10.98it/s, loss=0.139]  \n"
     ]
    },
    {
     "name": "stdout",
     "output_type": "stream",
     "text": [
      "Learning rate atual: 0.000050\n",
      "Época 32/50 - Tempo: 321.65s - Treino Loss: 0.0478 - Treino Acc: 98.21% - Val Loss: 0.1422 - Val Acc: 95.96% - Val F1: 0.9596\n",
      "EarlyStopping: 8/10\n"
     ]
    },
    {
     "name": "stderr",
     "output_type": "stream",
     "text": [
      "Época 33/50 (Treino): 100%|██████████| 1024/1024 [05:07<00:00,  3.33it/s, acc=98.1, loss=0.0467]\n",
      "Época 33/50 (Val): 100%|██████████| 146/146 [00:14<00:00, 10.36it/s, loss=0.134]  \n"
     ]
    },
    {
     "name": "stdout",
     "output_type": "stream",
     "text": [
      "Learning rate atual: 0.000050\n",
      "Época 33/50 - Tempo: 321.69s - Treino Loss: 0.0466 - Treino Acc: 98.13% - Val Loss: 0.1415 - Val Acc: 95.61% - Val F1: 0.9565\n",
      "Melhor modelo salvo com Val Loss: 0.1415\n"
     ]
    },
    {
     "name": "stderr",
     "output_type": "stream",
     "text": [
      "Época 34/50 (Treino): 100%|██████████| 1024/1024 [05:08<00:00,  3.32it/s, acc=98.3, loss=0.0465]\n",
      "Época 34/50 (Val): 100%|██████████| 146/146 [00:13<00:00, 11.02it/s, loss=0.217] \n"
     ]
    },
    {
     "name": "stdout",
     "output_type": "stream",
     "text": [
      "Learning rate atual: 0.000050\n",
      "Época 34/50 - Tempo: 321.47s - Treino Loss: 0.0464 - Treino Acc: 98.32% - Val Loss: 0.2182 - Val Acc: 94.75% - Val F1: 0.9484\n",
      "EarlyStopping: 1/10\n"
     ]
    },
    {
     "name": "stderr",
     "output_type": "stream",
     "text": [
      "Época 35/50 (Treino): 100%|██████████| 1024/1024 [05:07<00:00,  3.33it/s, acc=98.3, loss=0.0454]\n",
      "Época 35/50 (Val): 100%|██████████| 146/146 [00:14<00:00, 10.36it/s, loss=0.228] \n"
     ]
    },
    {
     "name": "stdout",
     "output_type": "stream",
     "text": [
      "Learning rate atual: 0.000050\n",
      "Época 35/50 - Tempo: 321.54s - Treino Loss: 0.0453 - Treino Acc: 98.31% - Val Loss: 0.2321 - Val Acc: 94.07% - Val F1: 0.9415\n",
      "EarlyStopping: 2/10\n"
     ]
    },
    {
     "name": "stderr",
     "output_type": "stream",
     "text": [
      "Época 36/50 (Treino): 100%|██████████| 1024/1024 [05:07<00:00,  3.33it/s, acc=98.2, loss=0.043] \n",
      "Época 36/50 (Val): 100%|██████████| 146/146 [00:14<00:00, 10.37it/s, loss=0.167]\n"
     ]
    },
    {
     "name": "stdout",
     "output_type": "stream",
     "text": [
      "Learning rate atual: 0.000050\n",
      "Época 36/50 - Tempo: 321.50s - Treino Loss: 0.0431 - Treino Acc: 98.25% - Val Loss: 0.1691 - Val Acc: 94.75% - Val F1: 0.9482\n"
     ]
    },
    {
     "name": "stderr",
     "output_type": "stream",
     "text": [
      "Época 37/50 (Treino): 100%|██████████| 1024/1024 [05:07<00:00,  3.33it/s, acc=98.5, loss=0.0398]\n",
      "Época 37/50 (Val): 100%|██████████| 146/146 [00:14<00:00, 10.34it/s, loss=0.182] \n"
     ]
    },
    {
     "name": "stdout",
     "output_type": "stream",
     "text": [
      "Learning rate atual: 0.000050\n",
      "Época 37/50 - Tempo: 321.45s - Treino Loss: 0.0398 - Treino Acc: 98.49% - Val Loss: 0.1868 - Val Acc: 94.93% - Val F1: 0.9494\n",
      "EarlyStopping: 4/10\n"
     ]
    },
    {
     "name": "stderr",
     "output_type": "stream",
     "text": [
      "Época 38/50 (Treino): 100%|██████████| 1024/1024 [05:07<00:00,  3.33it/s, acc=98.6, loss=0.0409]\n",
      "Época 38/50 (Val): 100%|██████████| 146/146 [00:13<00:00, 10.91it/s, loss=0.19] \n"
     ]
    },
    {
     "name": "stdout",
     "output_type": "stream",
     "text": [
      "Learning rate atual: 0.000050\n",
      "Época 38/50 - Tempo: 320.90s - Treino Loss: 0.0408 - Treino Acc: 98.61% - Val Loss: 0.1893 - Val Acc: 94.80% - Val F1: 0.9487\n"
     ]
    },
    {
     "name": "stderr",
     "output_type": "stream",
     "text": [
      "Época 39/50 (Treino): 100%|██████████| 1024/1024 [05:07<00:00,  3.33it/s, acc=98.6, loss=0.038] \n",
      "Época 39/50 (Val): 100%|██████████| 146/146 [00:14<00:00, 10.34it/s, loss=0.223]\n"
     ]
    },
    {
     "name": "stdout",
     "output_type": "stream",
     "text": [
      "Learning rate atual: 0.000025\n",
      "Época 39/50 - Tempo: 321.91s - Treino Loss: 0.0381 - Treino Acc: 98.61% - Val Loss: 0.2245 - Val Acc: 93.16% - Val F1: 0.9335\n",
      "EarlyStopping: 6/10\n"
     ]
    },
    {
     "name": "stderr",
     "output_type": "stream",
     "text": [
      "Época 40/50 (Treino): 100%|██████████| 1024/1024 [05:07<00:00,  3.33it/s, acc=99.1, loss=0.024]\n",
      "Época 40/50 (Val): 100%|██████████| 146/146 [00:13<00:00, 10.90it/s, loss=0.223]\n"
     ]
    },
    {
     "name": "stdout",
     "output_type": "stream",
     "text": [
      "Learning rate atual: 0.000025\n",
      "Época 40/50 - Tempo: 321.20s - Treino Loss: 0.0241 - Treino Acc: 99.05% - Val Loss: 0.2256 - Val Acc: 94.11% - Val F1: 0.9422\n"
     ]
    },
    {
     "name": "stderr",
     "output_type": "stream",
     "text": [
      "Época 41/50 (Treino): 100%|██████████| 1024/1024 [05:08<00:00,  3.32it/s, acc=99.1, loss=0.0237]\n",
      "Época 41/50 (Val): 100%|██████████| 146/146 [00:13<00:00, 10.90it/s, loss=0.194] \n"
     ]
    },
    {
     "name": "stdout",
     "output_type": "stream",
     "text": [
      "Learning rate atual: 0.000025\n",
      "Época 41/50 - Tempo: 321.64s - Treino Loss: 0.0237 - Treino Acc: 99.13% - Val Loss: 0.1970 - Val Acc: 95.27% - Val F1: 0.9533\n",
      "EarlyStopping: 8/10\n"
     ]
    },
    {
     "name": "stderr",
     "output_type": "stream",
     "text": [
      "Época 42/50 (Treino): 100%|██████████| 1024/1024 [05:08<00:00,  3.32it/s, acc=99.3, loss=0.0204]\n",
      "Época 42/50 (Val): 100%|██████████| 146/146 [00:13<00:00, 10.94it/s, loss=0.218]\n"
     ]
    },
    {
     "name": "stdout",
     "output_type": "stream",
     "text": [
      "Learning rate atual: 0.000025\n",
      "Época 42/50 - Tempo: 321.63s - Treino Loss: 0.0204 - Treino Acc: 99.32% - Val Loss: 0.2212 - Val Acc: 94.67% - Val F1: 0.9475\n"
     ]
    },
    {
     "name": "stderr",
     "output_type": "stream",
     "text": [
      "Época 43/50 (Treino): 100%|██████████| 1024/1024 [05:07<00:00,  3.33it/s, acc=99.3, loss=0.0197]\n",
      "Época 43/50 (Val): 100%|██████████| 146/146 [00:14<00:00, 10.35it/s, loss=0.262] \n"
     ]
    },
    {
     "name": "stdout",
     "output_type": "stream",
     "text": [
      "Learning rate atual: 0.000025\n",
      "Época 43/50 - Tempo: 321.63s - Treino Loss: 0.0196 - Treino Acc: 99.27% - Val Loss: 0.2609 - Val Acc: 93.16% - Val F1: 0.9334\n",
      "EarlyStopping: 10/10\n",
      "Early Stopping ativado na época 43. Treinamento interrompido.\n",
      "Treinamento interrompido por Early Stopping após 43 épocas.\n",
      "Usando o melhor modelo da época 33 com val_loss: 0.1415\n",
      "Avaliando modelo ViT-Base no conjunto de teste...\n"
     ]
    },
    {
     "name": "stderr",
     "output_type": "stream",
     "text": [
      "Avaliando no conjunto de teste: 100%|██████████| 61/61 [00:06<00:00,  9.72it/s]\n"
     ]
    },
    {
     "name": "stdout",
     "output_type": "stream",
     "text": [
      "Métricas de Teste:\n",
      "Acurácia: 0.8463\n",
      "Precisão: 0.8441\n",
      "Recall: 0.8463\n",
      "F1-Score: 0.8451\n",
      "AUC-ROC: 0.8449\n",
      "Matriz de Confusão:\n",
      "[[679  70]\n",
      " [ 80 147]]\n",
      "Benchmark do modelo ViT-Base concluído em 239.40 minutos\n",
      "\n",
      "==================================================\n",
      "Benchmark do modelo: Swin-Base\n",
      "==================================================\n"
     ]
    },
    {
     "name": "stderr",
     "output_type": "stream",
     "text": [
      "Some weights of SwinForImageClassification were not initialized from the model checkpoint at microsoft/swin-base-patch4-window7-224 and are newly initialized because the shapes did not match:\n",
      "- classifier.bias: found shape torch.Size([1000]) in the checkpoint and torch.Size([2]) in the model instantiated\n",
      "- classifier.weight: found shape torch.Size([1000, 1024]) in the checkpoint and torch.Size([2, 1024]) in the model instantiated\n",
      "You should probably TRAIN this model on a down-stream task to be able to use it for predictions and inference.\n"
     ]
    },
    {
     "name": "stdout",
     "output_type": "stream",
     "text": [
      "Dataset carregado:\n",
      "Treino: 16384 imagens\n",
      "Validação: 2326 imagens\n",
      "Teste: 976 imagens\n",
      "Classes: ['all', 'hem']\n",
      "Configurado scheduler ReduceLROnPlateau com patience=5, factor=0.5\n",
      "Iniciando treinamento do modelo Swin-Base...\n"
     ]
    },
    {
     "name": "stderr",
     "output_type": "stream",
     "text": [
      "Época 1/50 (Treino): 100%|██████████| 1024/1024 [06:44<00:00,  2.53it/s, acc=78.5, loss=0.45] \n",
      "Época 1/50 (Val): 100%|██████████| 146/146 [00:17<00:00,  8.17it/s, loss=0.43] \n"
     ]
    },
    {
     "name": "stdout",
     "output_type": "stream",
     "text": [
      "Learning rate atual: 0.000100\n",
      "Época 1/50 - Tempo: 421.89s - Treino Loss: 0.4501 - Treino Acc: 78.52% - Val Loss: 0.4377 - Val Acc: 79.49% - Val F1: 0.8073\n",
      "Melhor modelo salvo com Val Loss: 0.4377\n"
     ]
    },
    {
     "name": "stderr",
     "output_type": "stream",
     "text": [
      "Época 2/50 (Treino): 100%|██████████| 1024/1024 [05:59<00:00,  2.85it/s, acc=85, loss=0.345]  \n",
      "Época 2/50 (Val): 100%|██████████| 146/146 [00:17<00:00,  8.47it/s, loss=0.171]\n"
     ]
    },
    {
     "name": "stdout",
     "output_type": "stream",
     "text": [
      "Learning rate atual: 0.000100\n",
      "Época 2/50 - Tempo: 377.03s - Treino Loss: 0.3452 - Treino Acc: 84.95% - Val Loss: 0.2008 - Val Acc: 93.42% - Val F1: 0.9337\n",
      "Melhor modelo salvo com Val Loss: 0.2008\n"
     ]
    },
    {
     "name": "stderr",
     "output_type": "stream",
     "text": [
      "Época 3/50 (Treino): 100%|██████████| 1024/1024 [05:59<00:00,  2.84it/s, acc=86.4, loss=0.314]\n",
      "Época 3/50 (Val): 100%|██████████| 146/146 [00:17<00:00,  8.52it/s, loss=0.164]\n"
     ]
    },
    {
     "name": "stdout",
     "output_type": "stream",
     "text": [
      "Learning rate atual: 0.000100\n",
      "Época 3/50 - Tempo: 377.15s - Treino Loss: 0.3141 - Treino Acc: 86.46% - Val Loss: 0.2061 - Val Acc: 92.73% - Val F1: 0.9274\n",
      "EarlyStopping: 1/10\n"
     ]
    },
    {
     "name": "stderr",
     "output_type": "stream",
     "text": [
      "Época 4/50 (Treino): 100%|██████████| 1024/1024 [05:59<00:00,  2.85it/s, acc=88.4, loss=0.276]\n",
      "Época 4/50 (Val): 100%|██████████| 146/146 [00:17<00:00,  8.46it/s, loss=0.143]\n"
     ]
    },
    {
     "name": "stdout",
     "output_type": "stream",
     "text": [
      "Learning rate atual: 0.000100\n",
      "Época 4/50 - Tempo: 377.06s - Treino Loss: 0.2755 - Treino Acc: 88.37% - Val Loss: 0.1583 - Val Acc: 94.58% - Val F1: 0.9459\n",
      "Melhor modelo salvo com Val Loss: 0.1583\n"
     ]
    },
    {
     "name": "stderr",
     "output_type": "stream",
     "text": [
      "Época 5/50 (Treino): 100%|██████████| 1024/1024 [06:00<00:00,  2.84it/s, acc=89.5, loss=0.254]\n",
      "Época 5/50 (Val): 100%|██████████| 146/146 [00:17<00:00,  8.49it/s, loss=0.332]\n"
     ]
    },
    {
     "name": "stdout",
     "output_type": "stream",
     "text": [
      "Learning rate atual: 0.000100\n",
      "Época 5/50 - Tempo: 377.91s - Treino Loss: 0.2548 - Treino Acc: 89.51% - Val Loss: 0.3467 - Val Acc: 84.65% - Val F1: 0.8546\n",
      "EarlyStopping: 1/10\n"
     ]
    },
    {
     "name": "stderr",
     "output_type": "stream",
     "text": [
      "Época 6/50 (Treino): 100%|██████████| 1024/1024 [06:00<00:00,  2.84it/s, acc=91, loss=0.226]  \n",
      "Época 6/50 (Val): 100%|██████████| 146/146 [00:17<00:00,  8.46it/s, loss=0.104] \n"
     ]
    },
    {
     "name": "stdout",
     "output_type": "stream",
     "text": [
      "Learning rate atual: 0.000100\n",
      "Época 6/50 - Tempo: 378.03s - Treino Loss: 0.2258 - Treino Acc: 90.97% - Val Loss: 0.1323 - Val Acc: 95.27% - Val F1: 0.9526\n",
      "Melhor modelo salvo com Val Loss: 0.1323\n"
     ]
    },
    {
     "name": "stderr",
     "output_type": "stream",
     "text": [
      "Época 7/50 (Treino): 100%|██████████| 1024/1024 [06:00<00:00,  2.84it/s, acc=91.4, loss=0.212]\n",
      "Época 7/50 (Val): 100%|██████████| 146/146 [00:17<00:00,  8.46it/s, loss=0.186]\n"
     ]
    },
    {
     "name": "stdout",
     "output_type": "stream",
     "text": [
      "Learning rate atual: 0.000100\n",
      "Época 7/50 - Tempo: 377.46s - Treino Loss: 0.2114 - Treino Acc: 91.38% - Val Loss: 0.1902 - Val Acc: 92.91% - Val F1: 0.9309\n",
      "EarlyStopping: 1/10\n"
     ]
    },
    {
     "name": "stderr",
     "output_type": "stream",
     "text": [
      "Época 8/50 (Treino): 100%|██████████| 1024/1024 [06:00<00:00,  2.84it/s, acc=91.9, loss=0.2]  \n",
      "Época 8/50 (Val): 100%|██████████| 146/146 [00:17<00:00,  8.42it/s, loss=0.318]\n"
     ]
    },
    {
     "name": "stdout",
     "output_type": "stream",
     "text": [
      "Learning rate atual: 0.000100\n",
      "Época 8/50 - Tempo: 377.40s - Treino Loss: 0.1996 - Treino Acc: 91.91% - Val Loss: 0.3139 - Val Acc: 87.19% - Val F1: 0.8785\n",
      "EarlyStopping: 2/10\n"
     ]
    },
    {
     "name": "stderr",
     "output_type": "stream",
     "text": [
      "Época 9/50 (Treino): 100%|██████████| 1024/1024 [06:00<00:00,  2.84it/s, acc=93.1, loss=0.176]\n",
      "Época 9/50 (Val): 100%|██████████| 146/146 [00:16<00:00,  8.96it/s, loss=0.183]\n"
     ]
    },
    {
     "name": "stdout",
     "output_type": "stream",
     "text": [
      "Learning rate atual: 0.000100\n",
      "Época 9/50 - Tempo: 377.10s - Treino Loss: 0.1760 - Treino Acc: 93.10% - Val Loss: 0.1887 - Val Acc: 92.05% - Val F1: 0.9232\n"
     ]
    },
    {
     "name": "stderr",
     "output_type": "stream",
     "text": [
      "Época 10/50 (Treino): 100%|██████████| 1024/1024 [06:00<00:00,  2.84it/s, acc=93.5, loss=0.167]\n",
      "Época 10/50 (Val): 100%|██████████| 146/146 [00:16<00:00,  8.96it/s, loss=0.163]\n"
     ]
    },
    {
     "name": "stdout",
     "output_type": "stream",
     "text": [
      "Learning rate atual: 0.000100\n",
      "Época 10/50 - Tempo: 377.16s - Treino Loss: 0.1669 - Treino Acc: 93.46% - Val Loss: 0.1747 - Val Acc: 92.82% - Val F1: 0.9299\n",
      "EarlyStopping: 4/10\n"
     ]
    },
    {
     "name": "stderr",
     "output_type": "stream",
     "text": [
      "Época 11/50 (Treino): 100%|██████████| 1024/1024 [06:01<00:00,  2.83it/s, acc=93.7, loss=0.162]\n",
      "Época 11/50 (Val): 100%|██████████| 146/146 [00:16<00:00,  9.07it/s, loss=0.291]\n"
     ]
    },
    {
     "name": "stdout",
     "output_type": "stream",
     "text": [
      "Learning rate atual: 0.000100\n",
      "Época 11/50 - Tempo: 378.02s - Treino Loss: 0.1623 - Treino Acc: 93.66% - Val Loss: 0.2937 - Val Acc: 87.27% - Val F1: 0.8791\n"
     ]
    },
    {
     "name": "stderr",
     "output_type": "stream",
     "text": [
      "Época 12/50 (Treino): 100%|██████████| 1024/1024 [05:58<00:00,  2.85it/s, acc=94.1, loss=0.152]\n",
      "Época 12/50 (Val): 100%|██████████| 146/146 [00:17<00:00,  8.55it/s, loss=0.165]\n"
     ]
    },
    {
     "name": "stdout",
     "output_type": "stream",
     "text": [
      "Learning rate atual: 0.000050\n",
      "Época 12/50 - Tempo: 376.04s - Treino Loss: 0.1519 - Treino Acc: 94.11% - Val Loss: 0.1687 - Val Acc: 93.34% - Val F1: 0.9350\n",
      "EarlyStopping: 6/10\n"
     ]
    },
    {
     "name": "stderr",
     "output_type": "stream",
     "text": [
      "Época 13/50 (Treino): 100%|██████████| 1024/1024 [05:56<00:00,  2.88it/s, acc=96.1, loss=0.104]\n",
      "Época 13/50 (Val): 100%|██████████| 146/146 [00:17<00:00,  8.55it/s, loss=0.177] \n"
     ]
    },
    {
     "name": "stdout",
     "output_type": "stream",
     "text": [
      "Learning rate atual: 0.000050\n",
      "Época 13/50 - Tempo: 373.25s - Treino Loss: 0.1037 - Treino Acc: 96.11% - Val Loss: 0.1757 - Val Acc: 92.69% - Val F1: 0.9294\n"
     ]
    },
    {
     "name": "stderr",
     "output_type": "stream",
     "text": [
      "Época 14/50 (Treino): 100%|██████████| 1024/1024 [05:56<00:00,  2.87it/s, acc=96.4, loss=0.0944]\n",
      "Época 14/50 (Val): 100%|██████████| 146/146 [00:17<00:00,  8.54it/s, loss=0.203] \n"
     ]
    },
    {
     "name": "stdout",
     "output_type": "stream",
     "text": [
      "Learning rate atual: 0.000050\n",
      "Época 14/50 - Tempo: 374.02s - Treino Loss: 0.0942 - Treino Acc: 96.45% - Val Loss: 0.2086 - Val Acc: 92.82% - Val F1: 0.9305\n",
      "EarlyStopping: 8/10\n"
     ]
    },
    {
     "name": "stderr",
     "output_type": "stream",
     "text": [
      "Época 15/50 (Treino): 100%|██████████| 1024/1024 [05:56<00:00,  2.87it/s, acc=96.9, loss=0.0825]\n",
      "Época 15/50 (Val): 100%|██████████| 146/146 [00:18<00:00,  8.05it/s, loss=0.186]\n"
     ]
    },
    {
     "name": "stdout",
     "output_type": "stream",
     "text": [
      "Learning rate atual: 0.000050\n",
      "Época 15/50 - Tempo: 374.42s - Treino Loss: 0.0826 - Treino Acc: 96.91% - Val Loss: 0.1946 - Val Acc: 92.78% - Val F1: 0.9299\n"
     ]
    },
    {
     "name": "stderr",
     "output_type": "stream",
     "text": [
      "Época 16/50 (Treino): 100%|██████████| 1024/1024 [05:55<00:00,  2.88it/s, acc=97.1, loss=0.0763]\n",
      "Época 16/50 (Val): 100%|██████████| 146/146 [00:18<00:00,  8.02it/s, loss=0.115]\n"
     ]
    },
    {
     "name": "stdout",
     "output_type": "stream",
     "text": [
      "Learning rate atual: 0.000050\n",
      "Época 16/50 - Tempo: 374.12s - Treino Loss: 0.0761 - Treino Acc: 97.08% - Val Loss: 0.1151 - Val Acc: 96.09% - Val F1: 0.9614\n",
      "Melhor modelo salvo com Val Loss: 0.1151\n"
     ]
    },
    {
     "name": "stderr",
     "output_type": "stream",
     "text": [
      "Época 17/50 (Treino): 100%|██████████| 1024/1024 [05:56<00:00,  2.88it/s, acc=97.4, loss=0.072] \n",
      "Época 17/50 (Val): 100%|██████████| 146/146 [00:18<00:00,  8.06it/s, loss=0.0821]\n"
     ]
    },
    {
     "name": "stdout",
     "output_type": "stream",
     "text": [
      "Learning rate atual: 0.000050\n",
      "Época 17/50 - Tempo: 374.24s - Treino Loss: 0.0720 - Treino Acc: 97.37% - Val Loss: 0.0917 - Val Acc: 96.78% - Val F1: 0.9680\n",
      "Melhor modelo salvo com Val Loss: 0.0917\n"
     ]
    },
    {
     "name": "stderr",
     "output_type": "stream",
     "text": [
      "Época 18/50 (Treino): 100%|██████████| 1024/1024 [05:56<00:00,  2.87it/s, acc=97.2, loss=0.07]  \n",
      "Época 18/50 (Val): 100%|██████████| 146/146 [00:17<00:00,  8.53it/s, loss=0.136] \n"
     ]
    },
    {
     "name": "stdout",
     "output_type": "stream",
     "text": [
      "Learning rate atual: 0.000050\n",
      "Época 18/50 - Tempo: 373.97s - Treino Loss: 0.0700 - Treino Acc: 97.19% - Val Loss: 0.1371 - Val Acc: 94.41% - Val F1: 0.9454\n",
      "EarlyStopping: 1/10\n"
     ]
    },
    {
     "name": "stderr",
     "output_type": "stream",
     "text": [
      "Época 19/50 (Treino): 100%|██████████| 1024/1024 [05:56<00:00,  2.87it/s, acc=97.4, loss=0.0702]\n",
      "Época 19/50 (Val): 100%|██████████| 146/146 [00:18<00:00,  8.05it/s, loss=0.11]  \n"
     ]
    },
    {
     "name": "stdout",
     "output_type": "stream",
     "text": [
      "Learning rate atual: 0.000050\n",
      "Época 19/50 - Tempo: 374.58s - Treino Loss: 0.0702 - Treino Acc: 97.37% - Val Loss: 0.1125 - Val Acc: 96.22% - Val F1: 0.9628\n",
      "EarlyStopping: 2/10\n"
     ]
    },
    {
     "name": "stderr",
     "output_type": "stream",
     "text": [
      "Época 20/50 (Treino): 100%|██████████| 1024/1024 [05:55<00:00,  2.88it/s, acc=97.8, loss=0.0637]\n",
      "Época 20/50 (Val): 100%|██████████| 146/146 [00:18<00:00,  7.99it/s, loss=0.102] \n"
     ]
    },
    {
     "name": "stdout",
     "output_type": "stream",
     "text": [
      "Learning rate atual: 0.000050\n",
      "Época 20/50 - Tempo: 374.24s - Treino Loss: 0.0637 - Treino Acc: 97.80% - Val Loss: 0.1102 - Val Acc: 96.00% - Val F1: 0.9606\n"
     ]
    },
    {
     "name": "stderr",
     "output_type": "stream",
     "text": [
      "Época 21/50 (Treino): 100%|██████████| 1024/1024 [05:55<00:00,  2.88it/s, acc=97.8, loss=0.0611]\n",
      "Época 21/50 (Val): 100%|██████████| 146/146 [00:18<00:00,  7.98it/s, loss=0.0549]\n"
     ]
    },
    {
     "name": "stdout",
     "output_type": "stream",
     "text": [
      "Learning rate atual: 0.000050\n",
      "Época 21/50 - Tempo: 373.58s - Treino Loss: 0.0613 - Treino Acc: 97.75% - Val Loss: 0.0679 - Val Acc: 97.98% - Val F1: 0.9797\n",
      "Melhor modelo salvo com Val Loss: 0.0679\n"
     ]
    },
    {
     "name": "stderr",
     "output_type": "stream",
     "text": [
      "Época 22/50 (Treino): 100%|██████████| 1024/1024 [05:57<00:00,  2.87it/s, acc=97.9, loss=0.0568]\n",
      "Época 22/50 (Val): 100%|██████████| 146/146 [00:17<00:00,  8.56it/s, loss=0.136] \n"
     ]
    },
    {
     "name": "stdout",
     "output_type": "stream",
     "text": [
      "Learning rate atual: 0.000050\n",
      "Época 22/50 - Tempo: 374.11s - Treino Loss: 0.0568 - Treino Acc: 97.86% - Val Loss: 0.1402 - Val Acc: 95.61% - Val F1: 0.9568\n",
      "EarlyStopping: 1/10\n"
     ]
    },
    {
     "name": "stderr",
     "output_type": "stream",
     "text": [
      "Época 23/50 (Treino): 100%|██████████| 1024/1024 [05:56<00:00,  2.87it/s, acc=97.9, loss=0.0534]\n",
      "Época 23/50 (Val): 100%|██████████| 146/146 [00:18<00:00,  8.03it/s, loss=0.199]  \n"
     ]
    },
    {
     "name": "stdout",
     "output_type": "stream",
     "text": [
      "Learning rate atual: 0.000050\n",
      "Época 23/50 - Tempo: 374.73s - Treino Loss: 0.0535 - Treino Acc: 97.86% - Val Loss: 0.1957 - Val Acc: 93.81% - Val F1: 0.9398\n",
      "EarlyStopping: 2/10\n"
     ]
    },
    {
     "name": "stderr",
     "output_type": "stream",
     "text": [
      "Época 24/50 (Treino): 100%|██████████| 1024/1024 [05:55<00:00,  2.88it/s, acc=98.3, loss=0.0504]\n",
      "Época 24/50 (Val): 100%|██████████| 146/146 [00:18<00:00,  8.03it/s, loss=0.167]\n"
     ]
    },
    {
     "name": "stdout",
     "output_type": "stream",
     "text": [
      "Learning rate atual: 0.000050\n",
      "Época 24/50 - Tempo: 373.55s - Treino Loss: 0.0503 - Treino Acc: 98.29% - Val Loss: 0.1699 - Val Acc: 94.37% - Val F1: 0.9452\n"
     ]
    },
    {
     "name": "stderr",
     "output_type": "stream",
     "text": [
      "Época 25/50 (Treino): 100%|██████████| 1024/1024 [05:56<00:00,  2.88it/s, acc=97.9, loss=0.0534]\n",
      "Época 25/50 (Val): 100%|██████████| 146/146 [00:18<00:00,  7.95it/s, loss=0.149]  \n"
     ]
    },
    {
     "name": "stdout",
     "output_type": "stream",
     "text": [
      "Learning rate atual: 0.000050\n",
      "Época 25/50 - Tempo: 374.51s - Treino Loss: 0.0534 - Treino Acc: 97.94% - Val Loss: 0.1525 - Val Acc: 95.57% - Val F1: 0.9563\n",
      "EarlyStopping: 4/10\n"
     ]
    },
    {
     "name": "stderr",
     "output_type": "stream",
     "text": [
      "Época 26/50 (Treino): 100%|██████████| 1024/1024 [05:55<00:00,  2.88it/s, acc=98.2, loss=0.0512]\n",
      "Época 26/50 (Val): 100%|██████████| 146/146 [00:18<00:00,  7.99it/s, loss=0.0697]\n"
     ]
    },
    {
     "name": "stdout",
     "output_type": "stream",
     "text": [
      "Learning rate atual: 0.000050\n",
      "Época 26/50 - Tempo: 373.69s - Treino Loss: 0.0511 - Treino Acc: 98.16% - Val Loss: 0.0812 - Val Acc: 97.42% - Val F1: 0.9743\n"
     ]
    },
    {
     "name": "stderr",
     "output_type": "stream",
     "text": [
      "Época 27/50 (Treino): 100%|██████████| 1024/1024 [05:56<00:00,  2.88it/s, acc=98.2, loss=0.0477]\n",
      "Época 27/50 (Val): 100%|██████████| 146/146 [00:17<00:00,  8.52it/s, loss=0.0634] \n"
     ]
    },
    {
     "name": "stdout",
     "output_type": "stream",
     "text": [
      "Learning rate atual: 0.000025\n",
      "Época 27/50 - Tempo: 373.30s - Treino Loss: 0.0482 - Treino Acc: 98.21% - Val Loss: 0.0758 - Val Acc: 97.51% - Val F1: 0.9750\n",
      "EarlyStopping: 6/10\n"
     ]
    },
    {
     "name": "stderr",
     "output_type": "stream",
     "text": [
      "Época 28/50 (Treino): 100%|██████████| 1024/1024 [05:56<00:00,  2.87it/s, acc=99.1, loss=0.0297]\n",
      "Época 28/50 (Val): 100%|██████████| 146/146 [00:17<00:00,  8.49it/s, loss=0.135] \n"
     ]
    },
    {
     "name": "stdout",
     "output_type": "stream",
     "text": [
      "Learning rate atual: 0.000025\n",
      "Época 28/50 - Tempo: 373.82s - Treino Loss: 0.0297 - Treino Acc: 99.05% - Val Loss: 0.1368 - Val Acc: 95.61% - Val F1: 0.9570\n"
     ]
    },
    {
     "name": "stderr",
     "output_type": "stream",
     "text": [
      "Época 29/50 (Treino): 100%|██████████| 1024/1024 [05:57<00:00,  2.86it/s, acc=99, loss=0.0274] \n",
      "Época 29/50 (Val): 100%|██████████| 146/146 [00:17<00:00,  8.54it/s, loss=0.0852]\n"
     ]
    },
    {
     "name": "stdout",
     "output_type": "stream",
     "text": [
      "Learning rate atual: 0.000025\n",
      "Época 29/50 - Tempo: 374.58s - Treino Loss: 0.0274 - Treino Acc: 98.98% - Val Loss: 0.0856 - Val Acc: 97.08% - Val F1: 0.9711\n",
      "EarlyStopping: 8/10\n"
     ]
    },
    {
     "name": "stderr",
     "output_type": "stream",
     "text": [
      "Época 30/50 (Treino): 100%|██████████| 1024/1024 [05:56<00:00,  2.87it/s, acc=99.1, loss=0.0236]\n",
      "Época 30/50 (Val): 100%|██████████| 146/146 [00:17<00:00,  8.55it/s, loss=0.117] \n"
     ]
    },
    {
     "name": "stdout",
     "output_type": "stream",
     "text": [
      "Learning rate atual: 0.000025\n",
      "Época 30/50 - Tempo: 373.75s - Treino Loss: 0.0236 - Treino Acc: 99.13% - Val Loss: 0.1196 - Val Acc: 96.82% - Val F1: 0.9684\n"
     ]
    },
    {
     "name": "stderr",
     "output_type": "stream",
     "text": [
      "Época 31/50 (Treino): 100%|██████████| 1024/1024 [06:07<00:00,  2.79it/s, acc=99.1, loss=0.0237]\n",
      "Época 31/50 (Val): 100%|██████████| 146/146 [00:16<00:00,  8.60it/s, loss=0.201]  \n"
     ]
    },
    {
     "name": "stdout",
     "output_type": "stream",
     "text": [
      "Learning rate atual: 0.000025\n",
      "Época 31/50 - Tempo: 384.16s - Treino Loss: 0.0236 - Treino Acc: 99.14% - Val Loss: 0.1995 - Val Acc: 94.41% - Val F1: 0.9455\n",
      "EarlyStopping: 10/10\n",
      "Early Stopping ativado na época 31. Treinamento interrompido.\n",
      "Treinamento interrompido por Early Stopping após 31 épocas.\n",
      "Usando o melhor modelo da época 21 com val_loss: 0.0679\n",
      "Avaliando modelo Swin-Base no conjunto de teste...\n"
     ]
    },
    {
     "name": "stderr",
     "output_type": "stream",
     "text": [
      "Avaliando no conjunto de teste: 100%|██████████| 61/61 [00:08<00:00,  7.56it/s]\n"
     ]
    },
    {
     "name": "stdout",
     "output_type": "stream",
     "text": [
      "Métricas de Teste:\n",
      "Acurácia: 0.9201\n",
      "Precisão: 0.9192\n",
      "Recall: 0.9201\n",
      "F1-Score: 0.9171\n",
      "AUC-ROC: 0.9454\n",
      "Matriz de Confusão:\n",
      "[[731  18]\n",
      " [ 60 167]]\n",
      "Benchmark do modelo Swin-Base concluído em 195.18 minutos\n",
      "\n",
      "Benchmark completo concluído em 608.70 minutos\n",
      "Resultados salvos em: results/benchmark_facebook\n",
      "Benchmark concluído em 2025-05-16 08:40:09\n"
     ]
    }
   ],
   "source": [
    "# Função principal para o benchmarking\n",
    "def run_benchmark():\n",
    "    \"\"\"Executa o benchmark de todos os modelos\"\"\"\n",
    "    all_results = {}\n",
    "    benchmark_start_time = time.time()\n",
    "    \n",
    "    # Mostrar informações do sistema e versões das bibliotecas\n",
    "    print(\"\\n=== Informações do Sistema ===\")\n",
    "    print(f\"Python: {sys.version}\")\n",
    "    print(f\"PyTorch: {torch.__version__}\")\n",
    "    print(f\"Torchvision: {torchvision.__version__}\")\n",
    "    print(f\"Transformers: {transformers.__version__}\")\n",
    "    print(f\"Dispositivo: {DEVICE}\")\n",
    "    print(f\"GPU disponível: {torch.cuda.is_available()}\")\n",
    "    if torch.cuda.is_available():\n",
    "        print(f\"GPU: {torch.cuda.get_device_name(0)}\")\n",
    "    print(\"=============================\\n\")\n",
    "    \n",
    "    # Iterar sobre cada modelo\n",
    "    for model_name, model_id in models_config.items():\n",
    "        print(f\"\\n{'='*50}\")\n",
    "        print(f\"Benchmark do modelo: {model_name}\")\n",
    "        print(f\"{'='*50}\")\n",
    "        \n",
    "        try:\n",
    "            # Carregar o processador de imagem e o modelo\n",
    "            processor = AutoImageProcessor.from_pretrained(model_id)\n",
    "            model = AutoModelForImageClassification.from_pretrained(\n",
    "                model_id,\n",
    "                num_labels=NUM_CLASSES,\n",
    "                ignore_mismatched_sizes=True\n",
    "            )\n",
    "            model = model.to(DEVICE)\n",
    "            \n",
    "            # Configurar transformações e datasets\n",
    "            train_transforms, val_transforms = get_transforms(processor)\n",
    "            train_loader, val_loader, test_loader, dataset_info = load_datasets(train_transforms, val_transforms)\n",
    "            \n",
    "            # Configurar otimizador e critério\n",
    "            optimizer = optim.AdamW(model.parameters(), lr=LEARNING_RATE, weight_decay=WEIGHT_DECAY)\n",
    "            criterion = nn.CrossEntropyLoss()\n",
    "            # Código corrigido sem o parâmetro 'verbose'\n",
    "            scheduler = optim.lr_scheduler.ReduceLROnPlateau(optimizer, 'min', patience=5, factor=0.5)\n",
    "            print(f\"Configurado scheduler ReduceLROnPlateau com patience=5, factor=0.5\")\n",
    "            \n",
    "            # Treinar o modelo\n",
    "            model_start_time = time.time()\n",
    "            print(f\"Iniciando treinamento do modelo {model_name}...\")\n",
    "            model, history = train_model(model, train_loader, val_loader, optimizer, criterion, scheduler, model_name)\n",
    "            \n",
    "            # Avaliar no conjunto de teste\n",
    "            print(f\"Avaliando modelo {model_name} no conjunto de teste...\")\n",
    "            test_results = evaluate_model(model, test_loader, dataset_info['class_names'])\n",
    "            \n",
    "            # Calcular tempo total\n",
    "            model_total_time = time.time() - model_start_time\n",
    "            \n",
    "            # Salvar resultados\n",
    "            all_results[model_name] = {\n",
    "                'test_metrics': test_results,\n",
    "                'training_history': history,\n",
    "                'training_time': model_total_time\n",
    "            }\n",
    "            \n",
    "            # Salvar o modelo final\n",
    "            final_model_path = os.path.join(save_dir, f\"{model_name}_final.pth\")\n",
    "            torch.save(model.state_dict(), final_model_path)\n",
    "            \n",
    "            # Plotar resultados\n",
    "            plot_confusion_matrix(np.array(test_results['confusion_matrix']), dataset_info['class_names'], model_name)\n",
    "            plot_roc_curve(test_results['fpr'], test_results['tpr'], test_results['roc_auc'], model_name)\n",
    "            plot_training_history(history, model_name)\n",
    "            \n",
    "            # Salvar informações do modelo\n",
    "            with open(os.path.join(results_dir, f'{model_name}_results.json'), 'w') as f:\n",
    "                json.dump({\n",
    "                    'model_name': model_name,\n",
    "                    'model_id': model_id,\n",
    "                    'test_metrics': {\n",
    "                        'accuracy': test_results['accuracy'],\n",
    "                        'precision': test_results['precision'],\n",
    "                        'recall': test_results['recall'],\n",
    "                        'f1_score': test_results['f1_score'],\n",
    "                        'roc_auc': test_results['roc_auc']\n",
    "                    },\n",
    "                    'training_time': model_total_time,\n",
    "                    'epochs_trained': len(history['train_loss']),\n",
    "                    'dataset_info': dataset_info\n",
    "                }, f, indent=4)\n",
    "            \n",
    "            print(f\"Benchmark do modelo {model_name} concluído em {model_total_time/60:.2f} minutos\")\n",
    "            \n",
    "        except Exception as e:\n",
    "            print(f\"Erro ao avaliar o modelo {model_name}: {e}\")\n",
    "            all_results[model_name] = {'error': str(e)}\n",
    "    \n",
    "    # Salvar resultados comparativos\n",
    "    comparison_results = {}\n",
    "    for model_name, result in all_results.items():\n",
    "        if 'error' not in result:\n",
    "            comparison_results[model_name] = {\n",
    "                'accuracy': result['test_metrics']['accuracy'],\n",
    "                'precision': result['test_metrics']['precision'],\n",
    "                'recall': result['test_metrics']['recall'],\n",
    "                'f1_score': result['test_metrics']['f1_score'],\n",
    "                'roc_auc': result['test_metrics']['roc_auc'],\n",
    "                'training_time': result['training_time'] / 60  # em minutos\n",
    "            }\n",
    "    \n",
    "    # Criar DataFrame para comparação\n",
    "    df_comparison = pd.DataFrame(comparison_results).T\n",
    "    df_comparison = df_comparison.sort_values(by='f1_score', ascending=False)\n",
    "    \n",
    "    # Salvar comparação em CSV\n",
    "    df_comparison.to_csv(os.path.join(results_dir, 'model_comparison.csv'))\n",
    "    \n",
    "    # Plotar comparação de acurácia e F1-score\n",
    "    plt.figure(figsize=(15, 10))\n",
    "    \n",
    "    # Acurácia\n",
    "    ax1 = plt.subplot(2, 1, 1)\n",
    "    df_comparison['accuracy'].plot(kind='bar', ax=ax1, color='skyblue')\n",
    "    plt.title('Comparação de Acurácia entre Modelos')\n",
    "    plt.ylabel('Acurácia')\n",
    "    plt.ylim([0, 1])\n",
    "    plt.grid(axis='y')\n",
    "    plt.xticks(rotation=45)\n",
    "    \n",
    "    for i, v in enumerate(df_comparison['accuracy']):\n",
    "        plt.text(i, v + 0.01, f\"{v:.4f}\", ha='center', fontsize=9)\n",
    "    \n",
    "    # F1-Score\n",
    "    ax2 = plt.subplot(2, 1, 2)\n",
    "    df_comparison['f1_score'].plot(kind='bar', ax=ax2, color='lightgreen')\n",
    "    plt.title('Comparação de F1-Score entre Modelos')\n",
    "    plt.ylabel('F1-Score')\n",
    "    plt.ylim([0, 1])\n",
    "    plt.grid(axis='y')\n",
    "    plt.xticks(rotation=45)\n",
    "    \n",
    "    for i, v in enumerate(df_comparison['f1_score']):\n",
    "        plt.text(i, v + 0.01, f\"{v:.4f}\", ha='center', fontsize=9)\n",
    "    \n",
    "    plt.tight_layout()\n",
    "    plt.savefig(os.path.join(results_dir, 'plots', 'model_comparison_metrics.png'), dpi=300)\n",
    "    plt.close()\n",
    "    \n",
    "    # Comparação de tempo de treinamento\n",
    "    plt.figure(figsize=(15, 6))\n",
    "    df_comparison['training_time'].plot(kind='bar', color='salmon')\n",
    "    plt.title('Comparação de Tempo de Treinamento entre Modelos')\n",
    "    plt.ylabel('Tempo (minutos)')\n",
    "    plt.grid(axis='y')\n",
    "    plt.xticks(rotation=45)\n",
    "    \n",
    "    for i, v in enumerate(df_comparison['training_time']):\n",
    "        plt.text(i, v + 0.5, f\"{v:.1f}\", ha='center', fontsize=9)\n",
    "    \n",
    "    plt.tight_layout()\n",
    "    plt.savefig(os.path.join(results_dir, 'plots', 'model_comparison_time.png'), dpi=300)\n",
    "    plt.close()\n",
    "    \n",
    "    # Criar gráfico de radar para comparar todos os modelos\n",
    "    metrics = ['accuracy', 'precision', 'recall', 'f1_score', 'roc_auc']\n",
    "    \n",
    "    # Preparar dados para o gráfico de radar\n",
    "    plt.figure(figsize=(12, 10))\n",
    "    \n",
    "    # Número de variáveis\n",
    "    N = len(metrics)\n",
    "    \n",
    "    # Ângulos para cada eixo\n",
    "    angles = [n / float(N) * 2 * np.pi for n in range(N)]\n",
    "    angles += angles[:1]\n",
    "    \n",
    "    # Inicializar o gráfico de radar\n",
    "    ax = plt.subplot(111, polar=True)\n",
    "    \n",
    "    # Definir os ângulos\n",
    "    plt.xticks(angles[:-1], metrics, size=12)\n",
    "    \n",
    "    # Desenhar o limite y\n",
    "    # Definir os ângulos\n",
    "    plt.xticks(angles[:-1], metrics, size=10)\n",
    "\n",
    "    # Desenhar o limite y\n",
    "    ax.set_rlabel_position(0)\n",
    "    plt.yticks([0.25, 0.5, 0.75, 1.0], [\"0.25\", \"0.50\", \"0.75\", \"1.00\"], color=\"grey\", size=8)\n",
    "    plt.ylim(0, 1)\n",
    "    \n",
    "    # Plotar cada modelo\n",
    "    colors = plt.cm.tab10(np.linspace(0, 1, len(df_comparison)))\n",
    "    \n",
    "    for i, (model_name, model_metrics) in enumerate(df_comparison.iterrows()):\n",
    "        values = model_metrics[metrics].values.flatten().tolist()\n",
    "        values += values[:1]\n",
    "        ax.plot(angles, values, linewidth=2, linestyle='solid', label=model_name, color=colors[i])\n",
    "        ax.fill(angles, values, alpha=0.1, color=colors[i])\n",
    "    \n",
    "    # Adicionar legenda\n",
    "    plt.legend(loc='upper right', bbox_to_anchor=(0.1, 0.1))\n",
    "    plt.title('Comparação de Métricas entre Modelos', size=15, y=1.1)\n",
    "    \n",
    "    plt.tight_layout()\n",
    "    plt.savefig(os.path.join(results_dir, 'plots', 'model_comparison_radar.png'), dpi=300)\n",
    "    plt.close()\n",
    "    \n",
    "    # Cálculo do tempo total de benchmark\n",
    "    benchmark_total_time = time.time() - benchmark_start_time\n",
    "    print(f\"\\nBenchmark completo concluído em {benchmark_total_time/60:.2f} minutos\")\n",
    "    print(f\"Resultados salvos em: {results_dir}\")\n",
    "    \n",
    "    # Retornar todos os resultados\n",
    "    return all_results, df_comparison\n",
    "\n",
    "if __name__ == \"__main__\":\n",
    "    print(f\"Iniciando benchmark em {datetime.now().strftime('%Y-%m-%d %H:%M:%S')}\")\n",
    "    run_benchmark()\n",
    "    print(f\"Benchmark concluído em {datetime.now().strftime('%Y-%m-%d %H:%M:%S')}\")"
   ]
  }
 ],
 "metadata": {
  "kernelspec": {
   "display_name": "venv",
   "language": "python",
   "name": "python3"
  },
  "language_info": {
   "codemirror_mode": {
    "name": "ipython",
    "version": 3
   },
   "file_extension": ".py",
   "mimetype": "text/x-python",
   "name": "python",
   "nbconvert_exporter": "python",
   "pygments_lexer": "ipython3",
   "version": "3.10.12"
  }
 },
 "nbformat": 4,
 "nbformat_minor": 5
}
